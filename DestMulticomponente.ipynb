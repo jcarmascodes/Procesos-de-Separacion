{
  "nbformat": 4,
  "nbformat_minor": 0,
  "metadata": {
    "colab": {
      "provenance": []
    },
    "kernelspec": {
      "name": "python3",
      "display_name": "Python 3"
    },
    "language_info": {
      "name": "python"
    }
  },
  "cells": [
    {
      "cell_type": "code",
      "source": [
        "!pip install tabulate colorama\n",
        "from math import sqrt,pi,log\n",
        "import pandas as pd\n",
        "from tabulate import tabulate\n",
        "from colorama import Fore, Style\n",
        "from math import log,fabs"
      ],
      "metadata": {
        "colab": {
          "base_uri": "https://localhost:8080/"
        },
        "id": "hZhYoxDKAKW3",
        "outputId": "ee9b0f3c-8def-4b9a-cf37-6b573e80abae"
      },
      "execution_count": 13,
      "outputs": [
        {
          "output_type": "stream",
          "name": "stdout",
          "text": [
            "Requirement already satisfied: tabulate in /usr/local/lib/python3.10/dist-packages (0.9.0)\n",
            "Requirement already satisfied: colorama in /usr/local/lib/python3.10/dist-packages (0.4.6)\n"
          ]
        }
      ]
    },
    {
      "cell_type": "markdown",
      "source": [
        "Una mezcla de 33 % de n-hexano, 37 % de n-heptano y 30% de n-octano se va a destilar para dar un destilado de 0.01 n-heptano (Fracción molar) y en el fondo una concentración de 0.01 de n-hexano (Fracción molar). La columna operará a 1.2 atm. Calcula la composición completa de productos y el número mínimo ideal de platos a reflujo infinito.\n",
        "\n",
        "Para este caso se desinga al n-hexano como LK, al n-heptano como HK y al n-octano como NHK (ya que se piensa que en su mayoría irá al fondo).\n",
        "La composición de los productos se encuentran por medio de un balance de masa, asumiendo que en el destilado no hay n-octano y 0.99 por ciento de n-hexano. Se toma de base de cálculo 100 mol/h.\n",
        "\n",
        "En base al método de Underwood, calcule el número ideal de etapas si la razón de reflujo es 1.5 RDm. La alimentación es líquido saturado"
      ],
      "metadata": {
        "id": "stgb2eys4VC-"
      }
    },
    {
      "cell_type": "code",
      "execution_count": 18,
      "metadata": {
        "colab": {
          "base_uri": "https://localhost:8080/"
        },
        "id": "-HgzX6Rf4Q2U",
        "outputId": "d6429aa9-4d7d-4177-cb1e-ffb018ae4c3a"
      },
      "outputs": [
        {
          "output_type": "stream",
          "name": "stdout",
          "text": [
            "+----+--------------+------------------------+---------------------+------+-----------------+----------+-------+---------+│\n",
            "|    | Componente   |   Alimentación (mol/h) |   Destilado (mol/h) |   xD |   Fondo (mol/h) |       xB |     K |   alpha |│\n",
            "+====+==============+========================+=====================+======+=================+==========+=======+=========+│\n",
            "|  0 | N-Hexano     |                     33 |           32.3265   | 0.99 |        0.673469 | 0.01     | 2.23  |   2.21  |│\n",
            "+----+--------------+------------------------+---------------------+------+-----------------+----------+-------+---------+│\n",
            "|  1 | N-Heptano    |                     37 |            0.326531 | 0.01 |       36.6735   | 0.544545 | 1.01  |   1     |│\n",
            "+----+--------------+------------------------+---------------------+------+-----------------+----------+-------+---------+│\n",
            "|  2 | N-Octano     |                     30 |            0        | 0    |       30        | 0.445455 | 0.462 |   0.457 |│\n",
            "+----+--------------+------------------------+---------------------+------+-----------------+----------+-------+---------+│\n",
            "\n",
            "El número mínimo de platos es: 9.8484\n",
            "El valor de phi es. 1.4502\n",
            "Razón de reflujo: 2.7859 \n",
            "El valor a leer en el eje x de la correlación de Gilliland es: 0.2453\n"
          ]
        }
      ],
      "source": [
        "#Balance sobre n-hexano\n",
        "F=100 #mol/h\n",
        "\n",
        "xD=[0.99,0.01,0]\n",
        "xB=0.01\n",
        "xF=[0.33,0.37,0.30]\n",
        "alphas=[2.21,1.0,0.457]\n",
        "\n",
        "\n",
        "def Dt(F,xF,xD,xB):\n",
        "  return (F*(xF-xB))/(xD-xB)\n",
        "\n",
        "def Bt(F,D):\n",
        "  return F-D\n",
        "\n",
        "D=Dt(F,xF[0],xD[0],xB) #Cálculo del flujo en el domo\n",
        "B=Bt(F,D) #Cálculo del flujo en los fondos\n",
        "Componente=[\"N-Hexano\",\"N-Heptano\",\"N-Octano\"]\n",
        "Feed=[F*xF[0],F*xF[1],F*xF[2]] #Moles de alimentación\n",
        "K=[2.23,1.01,0.462] #Valor de K\n",
        "molD=[xD[0]*D,xD[1]*D,xD[2]*D] #Moles de Destilado\n",
        "molB=[Feed[0]-molD[0],Feed[1]-molD[1],Feed[2]-molD[2]] #Moles de fondos\n",
        "xBbis=[xB,molB[1]/B,molB[2]/B] #Fracción molar en fondos\n",
        "\n",
        "def alpha(HK,LK):\n",
        "  return LK/HK\n",
        "\n",
        "alphaij=alpha(K[1],K[0]) #Cálculo de alfa\n",
        "\n",
        "def Nmin(xDi,xBi,xDj,xBj,alphaij):\n",
        "  return ((log((xDi/xBi)/(xDj/xBj)))/log(alphaij))-1\n",
        "\n",
        "N_min=Nmin(xD[0],xBbis[0],xD[1],xBbis[1],alphaij) #Cálculo del no. mínimo de platos\n",
        "\n",
        "\n",
        "\n",
        "\n",
        "data = {\n",
        "  \"Componente\": Componente,\n",
        "  \"Alimentación (mol/h)\": Feed,\n",
        "  \"Destilado (mol/h)\": molD,\n",
        "  \"xD\":xD,\n",
        "  \"Fondo (mol/h)\":molB,\n",
        "  \"xB\": xBbis,\n",
        "  \"K\": K,\n",
        "  \"alpha\":alphas\n",
        "\n",
        "}\n",
        "\n",
        "df = pd.DataFrame(data)\n",
        "\n",
        "table = tabulate(df, headers='keys', tablefmt='grid')\n",
        "\n",
        "colored_table = \"\"\n",
        "for line in table.split('\\n'):\n",
        "    colored_line = \"\"\n",
        "    for item in line.split('│'):\n",
        "        if item.strip().replace('.', '', 1).isdigit():\n",
        "            value = float(item.strip().replace('│', ''))\n",
        "            if value < 0.5:\n",
        "                colored_line += Fore.RED + item + Style.RESET_ALL + '│'\n",
        "            else:\n",
        "                colored_line += Fore.GREEN + item + Style.RESET_ALL + '│'\n",
        "        else:\n",
        "            colored_line += item + '│'\n",
        "    colored_table += colored_line + '\\n'\n",
        "\n",
        "print(colored_table)\n",
        "\n",
        "print(\"El número mínimo de platos es: %.4f\"%(N_min))\n",
        "q=1 #Condición q de alimentación de líquido saturado\n",
        "\n",
        "def phi1(alpha0, alpha1, alpha2, xF0, xF1, xF2, q, phi):\n",
        "  return -1+q+((alpha0*xF0)/(alpha0-phi))+((alpha1*xF1)/(alpha1-phi))+((alpha2*xF2)/(alpha2-phi))\n",
        "\n",
        "M=100\n",
        "TOL=0.000001\n",
        "p0=1.05\n",
        "p1=1.08\n",
        "def g(p0,p1,fx1,fx0):\n",
        "  return p1-(fx1*(p1-p0))/(fx1-fx0)\n",
        "\n",
        "for i in range(M): #Se genera un proceso iterativo para determinar el valor de phi\n",
        "  phix=phi1(alphas[0],alphas[1],alphas[2],xF[0],xF[1],xF[2],q,p0)\n",
        "  phiy=phi1(alphas[0],alphas[1],alphas[2],xF[0],xF[1],xF[2],q,p1)\n",
        "\n",
        "  p=g(p0,p1,phiy,phix)\n",
        "  if fabs(p-p1)<TOL:\n",
        "    break\n",
        "  else:\n",
        "    p0=p1\n",
        "    p1=p\n",
        "\n",
        "print(\"El valor de phi es. %.4f\"%p0)\n",
        "\n",
        "def RDmin(alpha0, alpha1, alpha2, xD0, xD1, xD2, phi):\n",
        "  return -1+((alpha0*xD0)/(alpha0-phi))+((alpha1*xD1)/(alpha1-phi))+((alpha2*xD2)/(alpha2-phi))\n",
        "\n",
        "Rmin=RDmin(alphas[0],alphas[1],alphas[2],xD[0],xD[1],xD[2],p0) #Conocida phi, evaluar para conocer la razón de reflujo mínima\n",
        "Veces=1.5 #La razón real se conoce al multiplicar la razón de reflujo mínimo por el no. de veces que es la razón real con respecto a la mínima\n",
        "print(\"Razón de reflujo: %.4f \"%(Rmin*Veces))\n",
        "\n",
        "def xaxis(RD,Rmin): #Función que permite leer el eje x de la correlación de Gilliland\n",
        "  return (RD-Rmin)/(RD+1)\n",
        "\n",
        "print(\"El valor a leer en el eje x de la correlación de Gilliland es: %.4f\"%(xaxis((Rmin*Veces),Rmin)))\n"
      ]
    },
    {
      "cell_type": "markdown",
      "source": [
        "![Captura de pantalla 2024-07-06 220552.png](data:image/png;base64,iVBORw0KGgoAAAANSUhEUgAAAfAAAAEyCAYAAAAFjIJZAAAAAXNSR0IArs4c6QAAAARnQU1BAACxjwv8YQUAAAAJcEhZcwAADsMAAA7DAcdvqGQAAGXpSURBVHhe7d0FQBTbGgfwv4BgoKKo916xUa+BCXaLBSiKBdgd2HXtxm5M7BYVsDsAu7uLELxXBZVmqfNmZg+PWnBJWfh+781dzjdnhrOzuN/OzplzcjEBCCGEEKJS1PgjIYQQQlQIJXBCCCFEBVECJ4QQQlQQJXBCCCFEBVECJ4QQQlQQJXBCCCFEBVECJ4QQQlQQJXBCCCFEBVECJ4QQQlQQJXBCCCFEBVECJ4QQQlQQJXBCCCFEBVECJ4QQQlQQJXBCCCFEBVECJ4QQQlQQJfA0iYKX4zT0seqJmUe9eUyB4Jc4MqMfLMw6of+MQ3gZzOOEEEJIKlECTxN1/NF+EqY2jMBbnzAeSygAbosnwVl3NHYe343Ruk6YbOsiRAkh5NeiAv7D+xcv8Nb7J2Q8lu6if8L98QM8+vAD0TyULJkv3F+8gscPxS2S+X7Ey1ceSGI1SSeUwNNIS1sH2nnUkYuXE4r2uwCH+0YYY2MEHQ0dGNqMQ92HB3H+m1L/TAgh2UnYJUxvUgO1qscutetPwnl/ebx23XE4HSqvGv3tLraPM0fjug3R3qwDTJvURaO2w2Dn+h+ixArBxzHWUNimxUy4/T9RynDHti3qVDfEiEO+kF2aiuY15L+njmFjtO00EPMOPkVAgref8Kf2sOnaDVaDN+BROA8qFIVPp2fDokFDtDEzRes6hmgzfBse/OA7jPqEM7M6oUkDY5ibtES9OsYYufU+YlYnFo6nK81hGPd4tJqLG5T4lZKLCfjPJFWi4GnfC/9E2OLQqAo8Fiv87gJ0210TDhvMkU+KhOCETTc87nsMsxtoSpG4goODERkZyUuEkIykra0NdXV1XsoEYecxsf4IHA/UQfla5aEjfPLPlbcRxm2sBsemQlzWBisf2aNT+E0ssR6CbS9DoV22EYwbl0Euj1u4dNMdQbkroO8OJ8yudQFD60yGS8FusL++HK3yiL9AhpszjdF/31c0XHADW4otQqMRxxD0Ry00Ky/D8/uv8C3yD3TacBbLTQrzMzgZbs1ug357PiFaTQ8991zE/CZ5pTUJRXvvx2DTWbgaXBR1zFuj+JvTOP8yCMW7bMTpVW0QvH8gOsx0Q0jROujY+g+8OX0Or4KKw2LjOSxvr8P3Ekf0Nxzo2wSzbxdExRplUEA4Hmq6xpiyfgRqJ357JAlQAk+z5BO47MoUmB9vgRNrTaAlRUJxdmwHuJmfwRJjeSSubhYWePzoMQoWLMgjmSsqKkpaNDXT/q8nIiICuXLlgoaGBo8oJzw8XHpT/dUbq/inK5PJkCeP9M6lUHJtSG57RW0Qj0t0dDRy587NI8q1IbMoe9yUERYWBi0tLenYKUs8NuLxFrf7FfFDqnjs4h7LhJJrQ1Kvq7hP8TgkbIP4Gom/S00t9kvHgIAAHD1xHNWFM9RME5PAYxJ1TJ6MF1+HMnYdYbXpHfLWnYDdu0ahRn6xUghebByMUad00WP6DAyrdR3DlUzgsrarcc++I/7d2A1my56gQLctuLaitfw9Kegi/mk1HM4/NaAZHgmd7va4uLw1pF8ZTzS+7OmDlrNvQtN4GS5v7Q4dn23obbwQ97W7YOP1f/Df4GaYd1MTrZa5YHOPwvDZ2hPtFt6DdpfNuLuqLd9PHDJXTG82CM7Fx+HksdGomImfpbIF4Q+epEkk89hsyXqse8fL8UV6bGY9zVexlxE8EPGCrTbvwTZ/iOSB+Kx7WLKbN27yUua76ubG+vTsxUtps3DBArbF3p6XlDewf3925fJlXkpagL8/q1nNgJcUW2y7kNlv2sRL8fl++8bq1q7DS/ENHjCQXbxwgZfkHA8fYZMmTOQlucDAQFa9SlVe+r0G9R/ALl28yEtpU6m8PhOSHi8px93dnbVo0pSXkrdu7Vq2cvkKXlKscoWKLCw0jJfiW7FsGVtvZ8dLsby8vFizxo15KVZHU1P27OlTXpLrZNaBPX3yhJcySeg5NqFGOaZfaRA7+O939v37d/bDP4xFxsT/HsqO/bzF5jXVZ/rlW7D5txM8/6hIFhnFfw48woZULMsqGE5il0N5jIWxGzMas4plKrK+e76ysLPjWJ2yZVm1oUdZiLDW92B/VrVMOVZv0kWhptz3oyOYYdkKzGT2CjZcaEOF2qPYqZ98ZQLB/75ijx8+Yi+8/JnUDF8HNqiy0IY6E9nF0GD276tH7NGjF8zLX95IX4cBzED4fXUnxv+3FCPy7TrWWb8sq1SnDes1ZBJbvOsG84l5ryS/RNfAM5h6SRO007mIPS6+wufXaPi57salgu3Rvgx91CQkx5JdxswGdSB8gEQD6014L13Ulov2f4d3/0Yhl3YN1K3Bv0kI+oA7Fy/gwsXLuCw93sK7hBeykxHlcwcOG+djvN11yNSKoUkrI/nZd/QXnD9+DT/VSqNpx34wa1oI+OGGU5fE96vE8v1ZGTVr10LVUgWhhki8PuCA26G5oG3YALU08+HPyrVQq1ZVlCoopJbIV3BwuIXQXNowbFCL7yG+kBcv8F/x6qhfTQf/3XbGtjn90Wf6Bfgq/9RyNErgGUF2HXPaDoHDV+GvUL00ei0aBc3tg9DL2hqDt+aGzeK+oPxNSA6mXgJGHTqig3lHmLX4W7r2+3/RkZCua6prQJ3HI31OYfGIYbAZxpcRi3D2P371kzF5fU44MeM/xYp47oCFy3bidlgVdJ29EbPaya9HR3mfwombQVD7qwlaVC+KZiZNURiBuHniPMS3r+TIXm/Hgq1PEJa3OvqP6oii8bKJDG+2z8O2x2HIW30gbDoU4/H41OpMhOPlE9iz5zBOH52LZoUj4Xl0Ew5/iPOJhiSJEniaqaPMMIf417+1mmD60bXoXlx+eNX1TDHPwRlbN2+H4yFbmJak7E1IjpbbANbL7bDGzg4rJ5ugRJx3YjWd8ihTRA0s4AWevZN3aNX4ywxT1m2A3aIeqChe9s9TAqVK5EVu4a2EyYIREiffBYeECgk9F3JrxvYD0KzdAg11coFF5EOFhtWhI/2+SHw4dhyPxB7fsofYNnIIJh96D/GWmuDbJ3HWO5kk6n8bqyeuwZ0gXbSYsQojYr4p4AJurcLk1XcQXLQlpq2yQfUkuojkL10BerwfgJa+OUxq5RY+bXzA23fJdoUnHHViy2J6dO2GNm3bomq1qjySua5dvYZtW7Zg9769PJJ6i2wXonjx4hg8dAiPKGfwgIHo1ac3WrZqxSOKBQYGYtQIm2TbumTRIhQpoouhw4fxSCw/Xz9MGDdO4fZDBg2ClZU1jNu05hHA6Ygj7ty+jWUrV/CI8EYXFAyb4cPT5Xil1ZCBQpt79oRxa2MeSb1+vftg244dQhJIupNZQp4enpg9c6ZSx2K93TpERIRj/MSJPJKY2IYt27cp7BS3cvkKqePgyNGjeETu06dPmDlteqI2iPuaPOUfGFSvziPAnJmzsGL1KtSqXZtHMoFSndhWo+jC9hiwzxuFjW3hsKknykl9SkPxbG1P9Fz9GOotF+H8psrY1aE7trqXQr8D5zCrvnCcwh9juVl32H/4C30PXMKUn1N4J7YVcKhzGL0W30OuelNweN8wVMIjLDPtji3v1aBduCA0+YeI6DB//AzOhZqTz+DwyArCKUoCUT44Ma4HJp/8icpDt2L31Eb8A4FclM9xTOg+Ead/VsbgbfvwTyOdOGeK4ZCFqUMrj7BXYT9u5z7BwKQBdMUKobexwLQ3dnv+id77LmNuo8SvO4mPEngW07mjufQVWKFChXgkc928cUN6bNS4sfSYFqndl7LbiQn82dOnydZLbl9+fn548/q1wnWKtlMUE2/7e/L4cbJtyCypPd6KiPuqW69esr3EE/L09ICPt49Sv1+Ztop1DI2MFCbwpLb3FhK4l5dXorhYX7yzI24CF1+37bt2wqhuXR7JBEolcHt0DDyDKV3GQhzgUdegHcyalULUB1ecvPgaAVoGsNl3GBMM1fFsZWdYrnuFXKWbw9KiFtRfnIDDJXdEVBiC/aenw8BlfGwv9LVlsamrJTa+1ITRlCPYWuMAOvbei3/LDcHBs9NRh994EuIyFW0HHYJv5TFwPjEeVeN19Jfhxaa+6L3sLgI1/oRBw8rQFTO8RhX0XDYJxnlfwb6vNVbcDYTGn9XRoIqulLxzV+mFzRMrwmFIV8y9pYsBu05g0h+70bPdanyuZow2DUsh5O5RHLv3BSg/ELtPz0J9xXeykbjEBE5SK4i9cJjO+nc0ZZ17T2eHngfxeAJBL5jD9L6si2ln1n/aAfY8kMcVoF7o1As9tagXugr1Qhd7m4vdwmMoiId9OM0WWTdm1cqWZfplxKUcM2jcl6247M3+fw9L8Au2f3QrVjNOnerNh7Gdj+VvMgl7oQfemMOM9YV61SzYxEH1pN7qne3esHgdv0NvsrlNyjP98q3Y4gdx/waimO/lGaxNxZjfFWepYMV2+XxlLjNasSoJ1wlLZaud0h04dmaVmH5ZIzbpnNA+2Sd2eakVayi2R6pXntUyHs32PUvifZQkEueLD5JSga6LMcWpKEbtOY6dY4vCeeJCuPrzlf8XiWebZ8JZZxS2H9+JUUWOYvbmx6ArPITkQHnaYeWTj3j/Os7Zt0hBXKu8KaYdcMOtqydwYN8+HDx1FTfddmNiK73Yr7XzVUVPu4u4fu0U9u/bi30n3HDj8mb0r6ktrdZqvxoP3N3x3L4zxN1qN5qLS+/d8f65M1Zsu4O3Hm9xdHQlxDvJztMQc659wPsPlzE15rRcogbdVra48FbY3iPB8u4g+pUohha2l/Ey4TpheXWwv3CWXhU2u0/i0PFjmN9OaJ9mSbT65yCuPb6BU0cc4HT5Dm5esEMvg8R3oBPFKIGnVrQfLhx8AMNxNjDU0YCOkQ3G1n0Ih3PfeIUYEfD2CsXfDWtIQ6mKXzmFeXnLh0IkhJBkqaNAqeqo16Qx6hqURIFEF6RFatAuWQ31mzRBgxqlkqiTNajrVoJhDT3pw0QMde0SqFy3PmrqF0VeykgpQocrtSI/4LW3PgxrxVyf00JNQ314v/rAyzG00LBzA7xYMRmrN6/G1BXPUL9zYz4qGyGEEJI61IkttcJcMK3DcTQ/tQbt+S0SoWfGwtzVHBeXxe0FHAWPQ6Mx1qkA2rTWw+fLFxHQZR3WWpZN3LtT0NHUDO/fvUMuNeWHsExP4TL5l/uaWmkfSjW1+1J2O2XqJVcnpeuUjf0u6dkWcV/iUKUp6YWekt+vTN3k6iS1LiXxiPAI7D94APUaNOARQlQLJfDUivLE1l5jETzbEeOkbpqReLWqG+bnXYWDI8rL64giX2JNl/nIt24/hpZRR9Snreg3KggznMajSvxhnCXWPSwx3MYG9RvU55HMde3qVWy134I9+/fxSOotsrXlt5EN5RHlDB4wAL369Pn1bWQBgWjaqBEeP3/GI4ktWbgIRXSLYOjw4TwSy8/XFyZt2+Huwwc8Eku8JcvS2gqt27ThkaRuIwtCw3r18fTlCx75fcTb76x7ibeRxd76lloGlavg0dMnQgJPOsEm5Onhgf59+sLl2lUeSdp6OztpPPPkbiMT2/DgyeMkbiNbzm8jG80jcuJtZL2te8Lt+jUekTM3M8OiJUvi9ULv0aUrFi5ZnLljoROSjugr9NRSL4l2JoVweZcL/KLFS+Ku2HOxINqbluEVuFz5USC/P/71kc8RGOb9L/zzFUT+JE6wxbMecSIR8c0pOyxaCmK/WpTfRktBLGOXhG1LzfNThUWcECWlzy3F9bUUx2MW8Ra2PL+oo3hR7u8i7sQmhKgi+gtONXWU7r0INlrbMdiqJ3oN2IbcoxahtzhGaryhVMvAarIFvOd3QQ/rrug2zwvm/1ihdBbuaEIIySRRMoTKYsYsjUR4+C/GL00jcca41MrYaY6jhbbxH1Mq3jGMEo5hnC7CQpvjtVr4JXF/Tbzj8Yu6aZOG55cMSuBpoa4HkwUOcNyxGVuPOmC+WUn5de0EQ6nmrzMUW8+cxJa123DszDYMqU23SRCSc0Xj253tmDZ0OKav3IHDh/di6/KpGNO/Oybs+5yOSSOWzOce9k/vghaD9/9yjHNFIp+shEX9UTj2kwf+LwSv9k7A0FV3II7ImnIy+NzcgsnmnWB7LSV7EI/hDkwbPBT/LN0uHMP92L5yGkYP6IHhG17IE3HkE6wyb4AxR4VGh/ng/t4Z6N50CA4IByDR8Uimbtqk9vkphxJ4OlDXLgjtBGfUWvnzxe+kpqYFneKFoUVHnJAcLBp+V+ah78izKDFyJRb9MwL9+vTDkMlzMMwoD34Gi+OYpz8tPUO0rZwP/qHRqdq/Rk0b7Di9EKbyOVC4ELzcMx3LH1XFoN58drMU04KeUR0UDglAlNL9JYVj6LIA/cdcQKkxq7Fsuo1wDPtg0MS5sKmnie8h4fIPQRo1MWLXKSwwExqdRw912lVG3p+hiBYOQKLjkUzdtEnN81MedWLLYrp06iwNpfrnn39K1+ny5s0rXRfPLNeuXcNnHx9YWlnxSOodcnCQHlO6L3E7sfObMmOhnzl9Otn9J9cGcSjVSxcvKlwnbqdbtChax+kQ5uToKH2NGLd+UHAQTp88leLnmBHENhctVhTGxmnvxCbuy6JrV2imcCjV27duK3UskntdYoh1OltYKOzEltT2Yic2cdjUhHGxfrVq1eJ1Yrtw/jw2b90iDdeaacTxvk364lKTHThn2yTe/dAIuYUj54vBwqJC/IFV0onf/n5odaoVLgiPf6TDiUS0/0vcfF0QdeuXTNttseEPsMR0EmQLzmFOQyX2JI2Z3g8uzXbj7LwG8X936H0cPKaBrta1kKj7pd9+DGh2Gi2v7ENf4QAkezwS1E2TlD6/FMiIvxOSBuI1mefPnkljfItmzp4lJXIxqe/euQv58+eHdgFtYSmAAtoFoKOjg7Llykp108PPnz+lBF69RuwbXWqdPHECxYREnNJ9iW+2Ys/gX20Xk8CTq3f61CkUKVJEYZ2YBK5ondQG4c0+7rq3b9/g0cNH8WJBQcFSAk+uDZlF3uZfHzdlyF+D6ilK4AUKFpQSuDK/383VFeEREcnWjWmDogQuJl/x30XC7XUK60gJPGE85m/KoLoBj8jvuMjsjmzhT87DxTsPajWsEz95i/I1RHcL4THaH4/2rcNJ32L4M/ojHr4rgA6TJ8O06Aec3GqHfe8roEvFZ9jqnBc9RpTH06MfUKFrRTyzP4ZCE49ievErOP0+ApHed3D3S22MmNcfdQoleJ7hH3B08WY8K1we2u6P8L35TMzrXBrqIa/gvPkEfPIXhP/DW/BvMhnzev4JzzP7sG7bRzTbtBZWJSCs24cNJ/xQ7M9onN72FgU6/oOJ5n/B55w91mx5imLmzVHY6y6u3ouC2VI79Kua4DUMfQPnNfvxQacsikS+x6MAhmrSimj43jqCk8m0X/b4LC57aaFG3RqJPzjkNYK1tfhDFHxfnsE+u+1wb7YRq3uWSObr5l/VDccH5yXY8kQH5Qp44Mn35pi2oBOKepzHllX2eFbcHM0Ke+Ge231EdViCNQOqQivJ55fOxDNwknV079KVjRphw8aPGcsG9O3Lo4z5+vrGG1s4Zmnfpi2vwdiTx49Zo3r1mbmpmTQu9pTJk9nypUuZy+UrvIZ87G7/n/68lBiNhS5HY6HTWOgZIeToMGZQvimbd1Px85LGGz8zjrW02sa8pAHPZezVGnNWs80S9kDY5IdDf2ZQfxw7+zWIeb/xYP5+Dmxg5QZswpmvLOjTG/bxzWE2bvhG9tjDk3l+cGHzjSsx0+VPpbHOfff1ZTWsdrH/ooS93pnH2rRdzB4JL3GYy1TWzGI9ex/pz1xnWrGZl+XvDyE3ljCrvhvZC2nj/ax/VUu2wzuKRfmeYROaWrHt8gYy2cs1rLNBW7b0vtDAkNNsbI16bPzp78KaMHZ9ehPWet4d4VnEFcxuze/A+u/wlI/pHnKFTW3Qgs27JWNR/x5Jsv0xghyHsKrlGrFZ1+MewzDmc/cgWzjUkvUcNJ8deeYrxHzZwT7VmPU2b+GoisV9wnOwZrvFAyAVY49HsnVld9iCVu3YkofiwXJl0xtbsA3vxJaHsDOja7KGY04z6dlem86at5zH7sqSfn7pLXM/fpJf0tDQQM/evbFq7Rrs2L2bRyGdRV67dRPHTp7A1h3bsWjpEukeWvG+3xgBAQHCGWEQXrx4AVcXFwgJB5s3bsLly5d4DeDggQOoU7Mmqlb6G00bNYaFeSfpnufr12Lvm/3+/btUFmfqEs9Shb8TvoYQkhZqBQtBG6EICeGBRCJw/5wbIspVQnGpE40mKnZsj4qernB9Gwmt/PmhWawcyhfOD71KZVAwb37k1yyGcvqFkb9kJRR+fAH3g8Pg9fwZnr8KhuH41RjXurg4xXc8mvWm4pjzCBS5fxQHXdwRJrx3BAQJ7y/n8qOmUUGpTt5GU3Bw9wj5bGQa6v8/K424ew5XI8ujkryB0KzUEe0resLN5S2QSwO5NfNBR1fsqJsL2gXzISQwMP5197DbOHY6GjXqlZD3E1IviELifbXC/wOunv9l+zW0tZEXYQgN5gGJFkrU7YQ6eV7hkaw8WhroCrHcUEvQNylpydTVrId/TjphuO4DHNvvAvewQOG9Vuzpria8X+dG3sK6kJ6tdkHkDQ5EYGjSzy+9UQJPk2C8PDQDA8zNYNFnBg6/iPcXlUjALTvM2fkyVROZiNfB//rrL+kannhtuIelpTQXct9+/XgNoEnTpnjy4jmevXqJK1fdcNjJCRs3b5bqxihSuAhq16mNP/74Az+ERC1+Ve9y5YqUqGN8+PBBGpDDrL0J6hsaQTgTgnBmD+GMBYMGDMDUf/6RBtLYvWuX9BX2vbt34eHuLk2tSQhJmlbtRjAs8BPPHr2Nf8tSHOIojEE/fgipXE69qC4KqatB7ZcXPKMRGR6GwKC8MGhvBlMzcTFFoxJqCEnQmTr66w2sHzMZh4PqoEvbivJxKaKCERrySfi3HOcdShaK0IQTNwiZLlfQD/yIbSCKFFKHepINTHACEO0P/0DxQ0z8RuVSsv256zRG3QIBeP74dYJjqAYtLU3kUldP32vD0V9x024spjoEonbXNqiYL/lMzKKSen7pjxJ4Gig3G5lc9NfzWLzwAco2rpC4c0U6Ezu+lS5dGnUM66Bt+3bStb8YXbt3wxFnZ2m0rOevX0kJ/5KrC1rF6TBWQvigIH4wMDE1leZKLlmqlJScxTN7NxdX6cx+04aNWDB3HsaMHCWNHte6ZSvUrGaAGlWroU0rY/S2toarUNdV+HCwa8cOKdE/ePAA3p+8ER6emo8whGQDhdtjlI0hvhxej2OfEqTwkHe4eecrDE1bocC907jAb2GSvXmLL5XboW3FX6UlNRSu3wiVXm3DzNXn8ebLN3y8th0bT38SkiuvIonE+4OrcCBXWwxtWwZa4RGIYNGIzlsb9Qx8cGDeSlx49w2+H69j385L+CzmX8akNCx+GadV3wQtC9zDmfNf5b29ZW/w7svfaNuuoliKhynqxq1VE4bVvuHK8TsIEMtMhtBwYf/RuZRqv1qxjhg/rgG+H1kHx4/JvZdES+2V/+dXkq4b+e4g1uzPhdbD2qKMlnCsInndhGKCST4/cX0UPt90xJmnSSSKFKIEnlpKz0YmiPLG0dnr4d97NnpWyuj0nTJip7iyZctKHZBi6JUsidnz5mLdxg1wOHIYl4UEH/fM/pCTIzZs2oS58+dLQ1mKPX7F4TvFDwoFChSAl6en1Jnpo3Amf+f2HdjOXyAlesuu3dCiaVPp6/u6tetIZ/gDhQ8K0/6ZgtUrhTeUfftx+dIlqXOa2JkuLYNOEJI1aaHyYHtsHVkATmNtsGTfOVy/4Yqzjgexz+kNClbWg26bWcLZcSGcmTUXdps3YNUJLYxYPRyVg97i+kMvhH19get3PyIg8ifeXnsIr7CveHH1Ltz9o6FesT/mzWyKQIex6NTSHFPO6KCzdR1o/PcIVx4JH54/3cOFR74oUrcpKj7fgJHT7XD4Uz6UCLwNxxOBMF+yHN3yXMC0zm1hOec6/uxgAv0oH9w/fh0fZZ64d+ER/svXBjM3jkGhU7Mwf81mbFxxAlojV2NotSj4PHwET+Hs/P3dJ/gs/K7z9z4j8OMjPP4c5x5o9fLoYzsLRk/nwLr3RCxcfwlfChaA371r8NJT3P58fFM5TVQasBl7p5fGxWmjYLvjJK7evIGLh7bizKfSaNWsCvJAhs/3juPGexm87l3Ao0+f8PjSI3iHe+H++cf45BX3eHjBI5m6vrp10aTic2wcMQPrD3shb4kg3Dl0DPdf3cNjj2D8fHcXT328cf/cXXwOdMfjZ3nQI4nn5x7kh1u7l2GVc/oMvUy3kaVW+F0stNiDGkfWoyP/6wo5NhI9HvfBqblxJ0cQPu3u6AfrNZ4oUa4QgkOLwXzuCoxqVFThpyfLbt3RtVs31KxVk0cy17Wr17B1yxbs2beXR1JOTLw/f/zEiuXLpW8DDA0N4ffdD9/9vkvjj/t9lz+KiTo5Yg/hwoULo4iuLnT5Io5rrqtbVFiKSL2QJ0+chNPnzvItEluyaLHUf2Do8GE8Eku8bNC3V2+F2w8ZNFj6YNK6TfzbyO4IH0zijoUeFBwsfTBJrg2ZZfDAQbDuKY6FHncyndQRP1yJ/S3E4UyV5enhCZvhw5U6Fuvt1vGx0CfwSGJiG5yPH0tiLPQV0usvXkaKS7yNbPiQoYnaYG7WgY+FHtsLfeyo0Vi6Yrnwb60Wj2SyqCB8/ugOv4gC+KtsKRTNp/QFW/J/Mvh5fIDPT4a8xUqhnF7BHHVrFSXw1FJyNrJovxMYb3UKDezXwbq8FoKfrceQSf/B5pgtmiS6jwTo1KEj/IWzz7z54n/mzCzv3r6VHitWqiQ9psWv9iUm+qioKOne6rjLzx8/pPVi8hDLv/oTFfsHqGtoSB0AxW3EW5/ESTjEnz95eUl1FLVBTODfhUXROkVtVxQTLy2It90l9RwzU3q/dmXLlUtZAvf0kGb9Uub3K9NWsU6ZMmWgqSCBJ7W9t5DAQ0NDE8UV1Re/Kdq1dw/q1qvHI4SoGDGBk1SI9GBbLDux1dI9FqII9nJlJ2a18QMvy8nuLWAmAw5ItxlIIt+zDV27s03v5bdgJGTdw5LdvHGTlzJfVryNLCAggL1/9144LjeYs5MT27xxI5s3Zy4bOmgwq1iuPGvSsBH7W7+CwtvsxMWgchXWtXNnNnHceGa3Zg07fvQYe/zoEfv44QPdRpYEuo2MkKyProGnlpKzkWmUq4GK3ldxhXdYkb2/gtuhVVCzBH1dpizxurp+BX00bNQIFl26YNiIEZg9dw5WrFqJfPny4drNG3j17i1u37srXZ8Xv+K2GTUKZh07oGjRotKZ/uNHj3Hs6FGsXb0GE8aNQ9fOFlJnux/C2b44+t34sWOxZtVqHHV2xsMHD6mjHSEky6MEnmrKzUampmuGKZNL49gQc1hZd4XFhDtoOHs86iv4+pyknvg1etFixaTr7V26dsWESROxdt06aSjOsePHSXN+i73vV6xehdFCsu7YyRxVq1WVthXOwnDy+AlpjurJEyaih7D9jevXMX7MWHTu0FG6VrpqxQrcv3dP+sqdbpcjhGQFlMDTQqnZyNRRos007D1zFJvtduDY6W0YUV+HDnwmEzuyife/xyT01WvXYufu3VInuQdPHkudpcTYuAnjpbP8goUKSXNiP3/+XBqOdeP6DThy+LA0BKh4u5xx8xYYOXwEtmy2l67Ti9fBCSEkM1EeSQdKz0ZWrFCG3wNOUq6QkKxr1KwpnZWPGjMGy1etlM7kxbP1R8+e4tipk1i7fh3atW+PUqVKodLff8Pb2xvnz50TEvt66ev2Zo2bwLBmLfSyssKCefPhdMQRL56/oK/iCSEZhhI4IckQr78bGBjArEMHtDI2hlG9ejhz/px0T/xx4cx8nu0Cqfd7/Qb1pd7y4n3vu3fuxJTJk9FJ2EYc2Ma0XXtMHDdeuj3v1s1bUi9pQghJK0rghKSCpqYmqhlUQ6fOnaWf9zs44OHTJ9KAEvbbtkr3N7c3MYGenh7evnmD48eOYemixejTsydqV68hdaJbsnCRNBuaOGgNIYSkFN0HnsV07mguJQTxmu3vIE6xKJPJ0LpNGx5JPTE5iVK6L3E78frzr+cDD5DOeJPbf3Jt8PPzlaYHVbRO0XaKYuLkMbdv3Uq2DeI1crFeUGAg/P39pYSd8CxcHBFPvB4vTg+rIzyKg5SklNg+sTOfOCpeWon7ataiOTRzK3/Rx9PDA+/evUv2WMRI7nWJIdZp2qyZwoFcktpeHMhFnIQnYVysL86xH3c+8Du3b0sTA4nDBROiiiiBZzHdu3RF8xYt8Hflv3kkc4mzkO3fuw+bttjzSOottl0ozQc+eOgQHlHOiKHDpFHQWrRqySOKiSO5/TNxUrJtFUdi0xU+DA1JYiS2mdOmK9xebEO3Ht3jJUNnR0fcFt70l62IHYlN7JE+afyEFB8vMYm/F5Ld+3fvpcfPnz/HG7BGHHWuQsWKfKkgJZ9fEdvcvUcPtEqHkdjEfdltWJ/ikdiWLFqk1LHYYLdOmg88uZHYxDasWWenMIGvWr4CWgpGYhPH2l+4YEGiNoj7Eof9jTsSm/j3Kc76V6t2bR4hRMWICZxkHTSQS86cD1yco118zsIHDtbNwiLRwDR16xhK88QfdXZOcj53GsiFBnIhOQtdAyckCyhYqKB0yWDKtKnS/eqPnz/DvoMHpdvaGjdpgrDQUJw9c0Y6269naChN9ypO/vL161e+B0JITkMJnJAsSLwG3qBhA+m2tt379kod5A4cckD/gQNQ/I8/pEsds2fOlOZp796lC7ba2yMkJIRvTQjJCSiBE6ICxFvV6tWvj5mzZ+PqjevSvenicLEVK1aUOuItXbwEd+/cwfw5c6UhYV++eMm3JIRkV5TAM5044xb/kZBUEu9NF4eLPXvxAi65XMHkKf9Ic7r7+PhIQ8Kam5mhRZOmUocuMcETQrIfSuBpEoyXh2ZggLkZLPrMwOEXvxojOxp+VzZg5904k9sTkkbitJ/iBC/i6HFLli/DnPnzpIlf/v33X+zcvkP6ir2DiSkO7t9P47gTko1QAk+DQNfFmOJUFKP2HMfOsUXhPHEhXP35SgWiv57HktmH4UGja5IMIt5L3qdvX+w9sB93HtzHshXLpfmuX796hVkzZqJx/QaYM2sW3vL5sQkhqosSeGpF++HCwQcwHGcDQx0N6BjZYGzdh3A4941XSCD6M07ZrsOtcDXk4iFCMpI4KEyXbt1w8PAhnLlwXkrsIvE+f9O27WDdwxIXL1yId/85IUR1UAJPrcgPeO2tD8NaMYNMaKGmoT68X33g5bii4O20ADs1hmB4vcSDUsQlzl0dEBAgDTLyO5bv379Li6J1KV2++wn7EhZF65JblN5OaKc4wpnCdTGL+HyS2lcyz1XRcfj+Xb7Ej32Xen/Hjf2uRWpzEs9VHBhm1NgxOHXuLKbNmCFNyHLv7l1pgJPWLVthx7bt0lfuMfWjoqISPf9fLdLrpuQ2ytSNiIgQXiPF6+TPM/H24nSvio6BovriCHn04YWoMhqJLbXCXDCtw3E0P7UG7fmol6FnxsLc1RwXl8UfCSvKYz9GjHmGHjtmQzbPHLe6noZtC8WJvKOpGbw/fUrRCFjpSXxTFaXHUK6p3Zey24kjsYlv8snVS25fKV2nKBYUHIRwWXiybcgsyh63GOKxCwsLkx5F4jCs4u1r4vLjxw9oFygAzRT8Habk9ytTV6wjDjGraCS2pLZPSVwc1la81CD27idEJYkJnKRCpAfbYtmJrX4RwQMR7OXKTsxq4wde5iLesZ19zNiU05+Yv/835jS8FZty7gcLi+TrE6CR2HLmSGzpIbUjsb15/ZpNGj/h/6O/iaO+VShbjgnJnddQDo3ERkjmoq/QU0u9JNqZFMLlXS7wixYvibtiz8WCaG9ahlcQRcPvqhOuhebBx+3jMHjAMNjf/RdX18yEw1u6l4xkDeLX6eIc6C7XrkrXyX8KZ9/Ce4N0jfz5s2e8FiEkq6EEnmrqKN17EWy0tmOwVU/0GrANuUctQu8y6oDsOua0HQKHr4BuqynYfsQRh53EZR/GNCqBVlNWol8VDb4fQrKGv/76S7oF7eSZ01JZODuFhXknacIX8St1QkjWQgk8LdT1YLLAAY47NmPrUQfMNysppHWBVhNMP7oW3YsnPLx5YbbuUpLXvwnJCv6uXFmaznX5ypUoXrw4HA4eROsWLaXe62InS0JI1kAJPB2oaxeEtpS5Y2nlzydP5oSoKLOOHXDhymUMGTZMGgBGvH+8c8eOePjgIa9BCPmdKIETQpIk9gIXZ0g7c/4cmjRtKo2x3qNrV0yeMFGa05wQ8vtQAieE/FJ5fX3s2rsHGzdvRgk9PRx1dkanDh3w4vkLXoMQktkogRNClNa2fTtcuHwJllZW8PH2kc7GnZ2c+FpCSGaiBE4ISRFxoJeFSxZj0dIl0u1m/0ycJF0fF0c2I4RkHkrghJBU6WFpCYcjh/FXiRJSD/UJY8dJQ7ASQjIHJXBCSKrVqFkTx0+dlKYvffniBf777z9pjHVCSMajBE4ISRNxfHGxg5ultbV0n3hv657YtWMHX0sIySg0mUkW06NrN7Ro2RKVq1Tmkcx1/eo17Nm9G1u2b+OR1Ftku1AaCGTw0CE8opyhgwbDuldPtGzVikcUEyczmThufLJtXbJokZBgdDF0+DAeieXn64dpU6Yo3F5sg9hRy7hNax4BnI444s7t21i2cgWPAMFBwRg/dmy6HK+0EttsJSTRVq3jT6aTGuK+NmzahNyayk9m4unhiYULFkArjxZkYTI0bNwI/fr3h5pa4vOE9XbrEBERjvETJ/JIYmIb1m3coHAyk5XLV0jX4keOHsUjcp8+fcKCufMSvR7ivsaMGwuD6tV5BLCdNx+r1q5Brdq1eYQQ1UIJPIvp3NFcGgWrcOHCPJK5rl+7JnVGEj9EpJWri4v0mNJ9KbudmMAf3L+fbL3k9iVOKfns6VOF6xRtpygmDnAifmWcXBsyS2qPtyLivho3aZKiWfE8PT3h/vEj6tarJ42hHhoaij/+/BOVK1eWZjqLS5m2inXEr+YVJfCkthdn8nv//n2iuFi/aLGiMDCITeD3793Dtp07YFS3Lo8QomLEBE6yDpqNjGYjS63UzkamSKXy+kwmk/GScuLORvb1y1dm3KKlNLvZ9ClTWXR0tBSPQbOREZJ2dA2cEJLuihUvhn0HD6BUqVI45OCAebPn8DWEkPRCCZwQkiH+/PNPKYmLI7ft27sXtvPn8zWEkPRACZwQkmH0SpaUkriYzHft2Imli5fwNYSQtKIETgjJUKVLl5aSeLFixbDV3h6rVqzkawghaUEJnBCS4cqWK4e9Bw6giK4uNq5fjzu37/A1hJDUogROCMkUFSpWwL4D+6VbJG/dvIkP79/zNYSQ1KAETgjJNJX+/hubtthL94W7XLkCLy8vvoYQklKUwAkhmUocOKVR48YIDw/H6BE2kMlkfA0hJCUogRNCMp1RXSOUKVMGL168kIZfJYSkHCVwQkimE79CN27TRpqK9MC+/Th14iRfQwhRFiVwQshvIU5GYrd+PTQ0NDBj2jRpHHVCiPIogRNCfpvadWpj8pQp0qQwo2xGIiwsjK8hhPwKJXBCyG81aMhgtGnbBm9ev6Yx0wlJAUrgaRKMl4dmYIC5GSz6zMDhF8E8Hp/M4yyWD++Ozh26YbjtMbwN4SsIIZKly1egZMmSOHL4MNxcXHmUEJIcSuBpEOi6GFOcimLUnuPYObYonCcuhKs/Xxkj8jW2/7MJAV3W4NCxjeirthf/rL4LunGGkFgFCxXE4mXLpJ8XzJ+PiIgI6WdCSNIogadWtB8uHHwAw3E2MNTRgI6RDcbWfQiHc994BS4iFLqtRmGosR60NIqjXucmUHv5HH7RfD0hRNKwUUO0NzGBh7s7du3YwaOEkKTkEicF5z+TlAi/i4UWe1DjyHp0zCcPhRwbiR6P++DU3AbyQCKheLKqJ2aFzoDjDCNo8mhcFuadoK2tjaLFivJI5rp+9Rp+/PiBjp3MeST1Th4/IT2mdF/idtoFCqBlq5Y8olhgQCBcXVyS3X9ybfDz9cPNGzcUrhO3y5cvH4zbtOYRxfsKDgrGlcuXU/wcM4LYvvz586NVa2MeST1xX2Iyza2Zm0d+zdPDE0+fPFHqWCT1uoSEhMDl8hXkUsuFqMgotG3fDlpaWnxtrKS29/70CY8ePkoUF+uXK18eBtUNeAS46uoG+21bpYFlCFFFlMBTK8wF0zocR/NTa9A+jzwUemYszF3NcXGZojfQaPx3diqG7/wLs3aMh6E2DyfQvUtXNGjYEBUrVuSRzHXt2jUcdXLCqjVreCT1Fi20RfHixTF4yFAeUc6EceOkN+CWLVvxiGKBgYGYM2tWsm1dsmiRNIHG0GHDeCSWn5+fNIiIou3FNph16ADj1rEJ3MnREXdu38ayFSt4REjgwUGYNWNmuhyvtJLa3FFos3Fsm1NL3NfS5cuRO3cKErinB9auXqPUsVi/zg4R4REYP3Eij8Q6f+6ctIgWL12qMIGvXLFcug1t5KjRPCL3SUjgq1euTNQG8fkMHDwIBgbVeQRYJbyOa4R21Kpdm0cIUTFiAiepEOnBtlh2YqtfRPBABHu5shOz2viBl+MLemTHepmOZye9I3lEMeseluzmjZu8lPmuurmxPj178VLaCMmRbbG35yXlDezfnwlntbyUtAB/f1azmgEvKbbYdiGz37SJl+Lz/faN1a1dh5fiGzxgILt44QIvyTkePsImTZjIS3LChwhWvUpVXvq9BvUfwC5dvMhLaVOpvD6TyWS8pBx3d3fWoklTXkreurVr2crlK3gpvrDQMNascWOmX6Ysu5XEv4UVy5ax9XZ2vBTLy8tL2jahjqam7NnTp7wk18msA3v65AkvEaJ66Bp4aqmXRDuTQri8y0W6nh3t54o9FwuivWkZXiFWlPdxzJxxC40X2aKDnjqPEkIU0cqjhRkzZ0k/L7S1RXQ0dRghRBFK4KmmjtK9F8FGazsGW/VErwHbkHvUIvQuIyRo2XXMaTsEDl+FN56Ae1hrMxNnfXxwelo3CGcC6DzhCHzoPYmQJInXvsXhVl+9fInDDg48SgiJixJ4WqjrwWSBAxx3bMbWow6Yb1ZSSOsCrSaYfnQtuhcXDm/Buphw4hleP3bDqTNncFJYjq3qDj068oQkS11dXRpmdeXyFQjwD+BRQkgMSiPpQF27ILQTfDOulT+fPJkTQlJFPAO36tlTuiti/759PEoIiUEJnBCSZQ0cNEg6C9+9ayfNG05IApTACSFZ1h9//IGOnTrB95svjh87xqOEEBElcEJIljZk6BDpcduWLeJtr9LPhBBK4ISQLK7S33+jWYvm+PjhozTqHSFEjhI4ISTLGzJUPpLeVvst0iMhhBI4IUQFiBOdGBgY4P69e3j86BGPEpKzUQInhKiEwcPkY+rTWTghctkigU/7Z4o0aQUhJPsyMTVFyZIlceH8efj/TDjxPiE5T7ZI4K9fv8a7t295iRCSHYkjsw0YNFDqif7y5UseJSTnUpkEHvnpMjbNmoCxI0ditM04bL1DgzoQktOYd+4sDezy7t07uqWM5HgqksDD8eTAMYRazMXqDRuwbuMaDKmfeI5gQkj2VrhwYTRt1gzBQUHw8fbmUUJyJhVJ4BrQ09eG+/lTOHvJFW6u1/BCnOmLEJLjdBLOwkWvXr2WHgnJqVTmK/Q8FRujfokI+Pl4wtPTC18DKYETkhMZt2kNjdwaUr+X8PBwHiUk58niCTwcz/asgtM7mdBSdWioa/BFDWq5cvE6hJCcJG/evChXrrw0uYmriyuPEpLzZPEErolqZs0QevMWAvMVxZ9//cmXv1AkH69CCMlxKlWqJD2eoAlOSA6W5b9CV9M1Qu9+rVBCOwqfHrjhysWLuHThEh5/juI1CCE5TclSJaUz8StXLiMwMJBHCclZVOQaeDie7tkPn3qDMHbKFEyeOgkWBpp8HSEkp1FTU8Pflf9GuCwcF86d51FCchYVSeCaKF+vJHyOOeDwoSNwPOKMm56RfB0hJCeqXLmy9EjzhJOcSkUSeCT+feoFzWo1YGBQDdWqVUHpQoqbHv3ZGdO7WaBrZ8WL9SLq9EJIdvBXiRLScvfOHQQFBfEoITmHiiTwXMhfJC/C/YMQFh6JiIhIJHUFnEV8hadmW9hKA74kXlaPqM9rEkJUXfMWLRAZGYmb12/wCCE5h8ok8AIGLVC/WAi+fPJI9j5w9TJ9sXSBOcrrlUAJ4dN5wuXPwnl5TUKIqmveorn06OriIj0SkpNkoQQeBe/9NjA1s8SgUVNgu8oeB45dwp0XXvgRBujU7IDe/fqhr7T0Qkt9Db5dQvlQUl8PNNAqIdlfo8aNkTt3bri50qUxkvNkoQSujpK91sNp91KM72kMg2LR+O/JBexbPhE9m9dB/Zb9sfamH7LW+GvBeHloBgaYm8GizwwcfhHM4wlEecF5ai/0sp6BY950+xsh6SV//vwwqlsXX758wZvXNLQqyVmy2FfoashbtCwMGrVF5z4jMGHOAkyyNED+vPown7oAIxrpZqkGB7ouxhSnohi15zh2ji0K54kL4apommL1P9B28nQ0iHiDz6E8RghJF02bNZUeb9+6JT0SklNk3WvgUV9wdUV/DFwfgp5b92JGu1LIUnd+R/vhwsEHMBxnA0MdDegY2WBs3YdwOPeNV4hLC9o62sijQcO/EpLejOrWkx7v3b0nPRKSU2TJBB794x62DOmJRR/bY82BpehSMW3jpgbePwc3n3T+6jryA15768OwVszVdi3UNNSH96sPvEwIyQzVa1RHnjx5cP8+JXCSs+RiWWxW/MDn+zFzwnYEmi/CcpsG0FXiI4aFeScUKVIY23ft4pG4ovHf3vlwqD4T42ol1fEtFcJcMK3DcTQ/tQbt88hDoWfGwtzVHBeXGcsDcUV5YmuvSYhY4ACbiuo8mJi5WQd8//5dGibyd3D/+FF6LFe+vPSYFqndl7LbBQYGwPebb7L1ktuXn68vAgICFK5TtJ2imDgv9devX5NtQ2ZJ7fFWRNxXyZIlkVtT+e+9PD08EB0drdTvV6atYp0SenrQ0krcJTXh9p99fKTJTTQ0NKTbyhLuV9Hv+/njB3bs3iV8AKjBI4SoliyUwKPw+dw8DJ+8H15/tUGPjvVQSb8iKlT8GxXLF0f+pHNeEgk8EkHCm3tARBS+H7PDicqj0b+yGtTyFk6fW8mkhDwWwbMdMa6q+MEgEq9WdcP8vKtwcISCNyUlE7hV9x7oYWmJWrVr8UjmunbtGrbZb8HufXt5JPUW2S5E8eLFMXjoEB5RzuABA9GrTx+0bNWSRxQTx8AWB+e5cPkSjyS2ZNFiFNEtgqHDhvFILD8/P1j3sFS4/ZBBg2FlbQXj1q15BHBydMSd27exbMUKHhESeHCw9PeXXBsyy5CBg2DVqyeMjRV8gEyhtsatcfrcWamHt7I8PT2lNihzLNbbrUNERATGT5zAI4mJbTh55rTCBL5y+QrprHvk6FFSee3q1Th96jQmTJqEVcLrk7AN4gfjRUuWwKC6AY8Ao21GYsnyZZTAieoSE3jWEcEC/n3DHricYoe2rWGLp41lQ606snbNmrJWbbqzFdfCeL34Onc0ZwP79eMlLuoru7l3LVuzajVbPLgL6zV9lfTz+uMveYW0imSeu/qyDpMvMN8o4df5XmRT2/dhuzwi+foEIj3YFstubMPbJNZzQkJhN2/c5KXMd9XNjfXp2YuX0mbhggVsi709LylvYP/+7Mrly7yUtAB/f1azmgEvKbbYdiGz37SJl+Lz/faN1a1dh5fiEz5EsIsXLvCSnOPhI2zShIm8JCd8iGDVq1Tlpd9rUP8B7NLFi7yUNpXK6zPhjJaXlOPu7s5aNGnKS8lbt3YtE5IwLylWuUJFFhaq+N/8imXL2Ho7O15ibO/uPUy/TFm2XIg3a9yYR2N1NDVlz54+5SW5TmYd2NMnT3iJENWTxa6Ba6DAn5VQp4UZegwai6mL1sD+4Amcc7uK847r0LeG8mcDUCuGhr3HYOz4MejfrDqMuo8Wfh6HkeZVeIW0Ukfp3otgo7Udg616oteAbcg9ahF6lxHOrmXXMaftEDh8zVo3vRGSXVWuIh8X/eN76oNCco6s2ws9AY2Cf6BYwdQ1Vz1fQeRPQe5XmroeTBY4wHHHZmw96oD5ZiWFtC7QaoLpR9eie/E47VUvgyEOR5L9+pwQkjp/84lNPnygBE5yjizXiS01ku/EplrEa+Dde/RArdq1eSRzXb92FVula+D7eCT1Fi20RfFi4jXwoTyinMEDBvBr4K14RDGxE1s3iy44fym5a+CL+DXw4TwSy8/PFz0trRRuP3TQIFhK18Db8EhS18CD0KVT52TbkFmGDBwI61490co49rp9arVr3Rqnzp5B7twp6MTm6SEct8FKHYv16+wQES5eA5/II4mJbThxOolr4CuWI4+WeA18NI8AfXr2lPo1REVFJWqDuZkZFi1dAgOD6jwCjBoxQroGXrPW7+lvQkhaUQLPYqgXuvLbUS/0+FJ7vBUR96VKvdBF//33H0JDQqSfE+5XUX0fb2+ps2bdevL7yAlROWICz7oi2JuLl9i7CF5MgsJObOkp6AU7PL0v62xqzvpNd2Avgng8gaDnh9jMPuasY8c+bKbDC/b/asL2DsL2XUw7s/7TDrDngTyuAHVio05sqZWTO7GJVi5fLnVkM6pdm0diUSc2kh1l8WvgEXjv5gb3SF5UQtSn/RjVrgOsB4zGtPmrsXXfcVy+/RJeP2SpHEc9AG6LJ8FZdzR2Ht+N0bpOmGzrIkQTCHDD0slO0B2zG857xkDXcSIWXxFrReLZ5plw1hmF7cd3YlSRo5i9+THC5VsRQtJJzHVw8fY0QnIClenEpiz1Ur1gd2wXFk/oiVbViyH6vye4uGcZJvdojrpGrTBw9S34pSCTR/tdgMN9I4yxMYKOhg4Mbcah7sODOP8t7k6i4Xf+AB4YjsUIIx1o6BhhxPi6eHjwHHyjI+DtFYq/G9aQtjdoWBlhXt5JzmdOCEmdypXld5hQAic5RbZL4CK1vEVRtnpDtLHojWGTZmPeFEtU084L/U5TMW9kQ6VGd4sR+eEVfPSNUJOPtoY8tVBH3xuvPsT9WiASH197Q9+o1v+nMdWqZQh971f4EKmFhp0b4MWKyVi9eTWmrniG+p0b03SnhKSzcuXLQVNTE5ERKfjKjhAVlsU7sYXizKzFyD1jPtrEJFAFku7EFoUvbmswcY4LSo1ejVldKyKlo6rLrkyB+fEWOLHWhCfdUJwd2wFu5mewxDgmDcvg+o8ZTrQ8jVUmPBZ6BuPNXNHxzGKUPz4aY50KoE1rPXy+fBEBXdZhrWVZ+S1nCYid2MSetOIoU7+D2BFJVKZsWekxLVK7L2W3E0di+y4cq+TqJbcv8TgHCftQtE7RdopiYi90sSNdcm3ILKk93oqI+xI7kKVoJLYU/H5l6op1/vrrL2gq6MSW1PYx8VKlS0NNLfaTuqL6/37+TJ3YiErL4glchivL7aAxZjKaJXPKqjCBR//A/S2TMM0xD/qsWoy+NQryFSkT5WmPvmNCMNNpPKpII6a+xJqu85B39QEMKx+TgqPgad8L44Nn4/CEqpBXW40ec/Ng5d7mON59PvKt24+hZdQR9Wkr+o0KwoyY/SUg3kZmaWWF2nV+z21k4lCq4m1ke37jUKqDBgxEbyWHUhVf+0suV3gkMWko1SJFMHS44qFULbt1V7i9OJSq+Dq0bpNgKNVbt7FsZextZEHBwejcoWOybcgsgwcOgnXPnjBunfahVFu3bIUzF85DM0UJ3FN47QYodSyUGUpVbIM4nKsyQ6nGmDZlijQr2Sb7zahYqRKPKh5KdcTQYXQbGVFtYgJXdYl6ofs/Z/tHtWXG/daz29+ieDCVIj3Z7r4mbOqFbyxK+J/vxX+YWe8dLOGIqZGeu9gAk3/YRfH3RfmyS5NNWL8dHiwy0oNts2rP5t6Qdz0PujmPdbDaxjyTGFGVeqFTL/TUyum90EVzZ8+ReqIfP3qMR+SoFzrJjrLdNfAon/OYa22NuS5ApQrReHXlHK4/eo+vwansNqZeGr0WjYLm9kHoJex38NbcsFncF/IRU2fBZPBBXq03bEdpYudAa/S2GojtmiOxsG8ZqKuXgdVkC3jP74Ie1l3RbZ4XzP+xQmkakI2QdFeqdCnpkUZkIzlBFkrgUfDebwNTM0sMGjUFtqvsceDYJdx54YUfYcp3G1fXa4eZBy/g1O7p6FAxPwLf34DzhlkY2skYLVu0g9Xy65DxuspS1zPFPAdnbN28HY6HbGFaUp59tZrMhKNdD+lnoRZKmC7A/qPbsXGHMw7YmkGPJ+n8dYZi65mT2LJ2G46d2YYhtfPLVxBC0lXpMmWkx4+UwEkOkIUSuDpK9loPp91LMb6nMQyKReO/Jxewb/lE9GxeB/Vb9sfam35K3cutUfBPVDJsDlPLgRg9fSFWbTuIY5dc4XLpCNb2q4HUDYuuDu1C2gk6nmkhf74Ep9Lq2iioreD0Wk0LOsULQyvbfedBSNZRunRp6fEjH3mNkOwsy3di8zy7BBOXPkXtaWswuV0pKBrYMTsNpSrOb12hQoX/fxWY2a5dvYYH9+9j3ITxPJJ6a1athra2doo7sYnbiR2LlOnEtn3rtmTbKu4rX758ijux+fph7549CrcXtzOoXj1+J7Yjjvj06VO8+kFBwdi2ZUu6HK+0Etsszm2dHp3YxH3ZjBoFTc2UdWI76uys1LEQO7FFRkb+8rUbMdJGYSc2cZ3YQz5hJzbx9RFfJ11dXfTp15dH5fVbt2kTrxPbgX37sX7TRtQxNOQRQlRL1j0fjPqCqyv6Y+D6EPTcuhczkkje2ZH4xhYeHvFblphBMBStS+ki7SciXOG65BZRhBLbiZNhiBSti1lE4nNStC655ypKuJ2i+ul5vNK6iJJ6rildUrUv4TUTKVyXYBH/xn9VVyS+xkmuU9C+mL8JS2vreHFRwr/FLH3uQogyxDPwrCbq+11mP6AVazdiF3v6kweTkeFjoWci6oVOvdBTi3qhM+bl5cWaNW7MS7GoFzrJjrLcGXjg8/0YbzkFt+ssxP71/VC9EF9BCCFKEGdEu37tGt6+ecMjhGRPWaoX+udzs9HLejbcUAkV2Eu4nLuGx+++IrV3gKWb4Jc4MqMfLMw6of+MQ3gZzOMJBL84jFl9O8HcvC9mHXqJhNUCbtlhzs6XNJEJIRkoXBaO/n364pDDIR4hJHvKUr3QS7Sfjf0Xz2LH9I6okC8Q7687YdPswejaqhmM2/bAyuspvQEsPaR1NjK56K/nsXjhA5RtXCHHXMsn5HfQ0JAPcejh4S49EpJdZbGv0DVQ4M9KqNPCDD0GjcXURWtgf/AEzrldxXnHdehbI3U3gKVF2mcjE1ZHeePo7PXw7z0bPStR+iYkI6lrqENdXV3qFU9IdpZ1e6EnoFHwDxQrmPnNTftsZJF4v3sKltz8AZ+DY2DWtj/sbvomeT87YwzBwcEI8A/4PUsAXxStS+ki7CcwFfsKFB+V2U6oExQUpHhdzCLuJ6l9pXSdUE70fIRySEhI/NjvWhS1OZVLVFRUil87qb6y2wj1frV/sZd5kvtL5neJtxf++eef8P70CT++/4hdl6C++BwJUWVZ/D5w5cyZNQs6OjoYP3Eij6SftM5GZravCU72O4UG9utgXV4Lwc/WY8ik/2BzzBZN8sqrxtXR1EyaOUk8i/gdAgMCpccCBQtIj2mR2n0pu50y9ZKrk9J1imLBQcFSp6nk2pBZlDkeyhL3JU4WkjsF94Gn5PcrU1eso6mlqfA+8KS2j4mLZ+Bigs6vnV+alUxRffG123dgP+o1aMAjhKgYMYGTpEV6bGY9zVexlxE8EPGCrTbvwTZ/iDsbSSTz2GzJLFa+YLHVVjGL7hvZm9sLmMmAA+w7j7PI92xD1+5s03vFs5nQbWR0G1lq0W1ksbeROTk6sjWrVrMvX75IcbqNjGRHKvMV+u+iXtIE7XQuYo+L+LV3NPxcd+NSwfZoL85m8n/qKGliAp1Lu+EqXvSO9oPbrosoaGKKchVqoKL3VVz5JP/KXfb+Cm6HVkHNEr/nDJuQnKBL164YO36cNJ0tIdkVJfBfSeNsZLl1zTBlcmkcG2IOK+uusJhwBw1nj0d9BV+fE0IIIcqiBK6EtM1GJsTbTMPeM0ex2W4Hjp3ehhH1dejAE5KBxI6gSxYtxsb1G3iEkOyH8ojS0mE2smKF6B5wQjKBpqYmdmzbBmcnJx4hJPuhBE4IyXbEmcr09PSkW8nodjGSXVECJ4RkS2XLlZNmPfPx8eERQrKXbHEfeHbSpVNnqeesOBDF73Dt2jXpPvTeffrwSOrt27tXekzpvsTt9ErqoWXLVjyimDhgx/Fjx5Ldf3Jt8PPzw9kzZxSuE7f766+/YNw6znzgjo4IDQ2NV1+81irOgZ3S55gRpDaXKAFj47TPBy7uy9LKSjqTVZanpyeuXb2q1LFI7nWJIdbp3qOHwvvAk9r+k/cnuLm4SvE7t2/j3bt3aC28hpcuXUKt2rVgYFCd1wTOnD6NTVvsYWhkxCOEqBZK4FlMN4suqFGzJsqVL8cjmev61Wu4LLzZzZk/j0dSb7HtQhQrXgyDhw7lEeXMmz0HzVo0R8tWv0jgAYFYtWJFsm1dsnARiujqYujwYTwSy8/XD+vt7BRuL7ahSdOmMG4TJ4EfccTzZ8/i1RcHA1mxbFm6HK+0EtvctFkztGqd9gQu7mv6zJkpGshF/OC3a8dOpY7Fert1iAgPx/hJSQ++JLZh6vTp0MqTOIGvXL4CeYT4yNGjeURO/Mp8+9ZtUhuuuV3FlcuX0cmiM44fPYau3bvBoHpsAt+yaTPsNqxH7Tp1eIQQFSMmcJJ10EAuNJBLatFALvHnA//k9Yndu3uX/fz5kwZyIdkSXQMnhGRLJUuVhFHduihUqBCPEJK9UAInhBBCVBAlcEJItsQYQyezDuja2YJHCMleKIFnukhExp2JlBCSIXLlyiXdafDm9WseISR7oQSujOCXODKjHyzMOqH/jEN4GczjCQS/OIxZfTvB3LwvZh16icTVouF3ZQN23pXxMiEkI5UoUQJhYWHS/eCEZDeUwH8pAG6LJ8FZdzR2Ht+N0bpOmGzrIkQTCHDD0slO0B2zG857xkDXcSIWX4lfK/rreSyZfRge4TxACMlQJUrqSY8RERHSIyHZCSXwX4j2uwCH+0YYY2MEHQ0dGNqMQ92HB3H+WzSvIRLOrM8fwAPDsRhhpAMNHSOMGF8XDw+egzi7qLzKZ5yyXYdb4WrIxUOEkIxVogQlcJJ9UQL/hcgPr+Cjb4SaeXggTy3U0ffGqw9xv5KLxMfX3tA3qoWYISe0ahlC3/sV5NWi4O20ADs1hmB4vcSDUhBCMob4Fbo4klt0VNwP3IRkDzQS2y/IrkyB+fEWOLHWhCfnUJwd2wFu5mewxDgmGcvg+o8ZTrQ8jVUmPBZ6BuPNXNHxzDI0/28/Rox5hh47ZkM2zxy3up6GbQvFibyjiSnevn0LNbXf89kq5kwlJUNoJiW1+1J2O2XqJVcnpeuUjf0u6dmW1OwrJdsoUze5OkmtSxgX397EzmyK6ovXxfcfPIB6DRrwCCGqhRL4L0R52qPvmBDMdBqPKhpCIPIl1nSdh7yrD2BY+ZhpQ6Pgad8L44Nn4/CEqpBXW40ec/Ng5d42cBsyDq+tNmN6kzy4NMUSdzs7YV5rHWgpmHXUuoclRowcifoN6vNI5rp+7Rq22m/B7n3ysabTQj6UanEMHjqER5QzeMBAaSzrFq1a8ohiQYGBaNqoMR49e8ojiS1dtBhFdItgyDAFQ6n6+cG0bTvceXCfR2INHTQYltZW8cZCd3Z0xO3bt7FsxQoekY+F3qhefTx58ZxHfp8hAwfBuldPtEqHsdCr/V0Zj58/SzbBJiSOhT6gT19cuerGI0nbsG4dwsMjMH7iBB5JTGzDo6dPoKlgLHRxCF0trTwYOXoUj8h5f/JGb2truF6/xiNy4u1kC5cugYGBAY8A3S26YOGSxaheowaPEKJa6Cv0X1AvaYJ2Ohexx8UX0eK1btfduFSwPdqXiZt91VHSxAQ6l3bDVbzoHe0Ht10XUdCkPbRvOOFaaB583D5OSEzDYH/3X1xdMxMObxX3ihXPFsQ3TfFrv9+xiPMoi4uidSldNLWEfQmLonXJLcpup0xbk62TzDpF22lqypf4sV+3IbOW9GyLurp6iveVkt+vTF3x30HC4x2zyLdNvL2iv52goCAw4X/i6x03/ru+5SIkvdBf8K+ol0avRaOguX0Qegmf7AdvzQ2bxX0h5m/Z9VkwGXyQV+sN21Ga2DnQGr2tBmK75kgs7FsOxVpNwfYjjjjsJC77MKZRCbSashL9pNN5QkhGM27eAh7uHrxESPZBCVwJ6nqmmOfgjK2bt8PxkC1MS8rPvrWazISjXQ/pZ/EsvITpAuw/uh0bdzjjgK0Z9BJ9RZ4XZusuJXn9mxCS/kro6SEqKgrh4XT/JsleKIErTR3ahbSF/8alhfz5EmRpdW0U1E6UuQkhv4nYE13k6+srPRKSXVACJ4RkayX05An829dv0iMh2QUlcEJItqanJx/M5du3r9IjIdkFJXBCSLZWpWpVaGtrQ6dwYR4hJHugBE4IydaaNW+O0mVKw8jIiEcIyR4ogRNCCCEqiBI4ISTb8/f3x9kzZ3iJkOyBEjghJNv7+uUrtm/dJo2NTkh2QWOhZzGW3brDomtX1Kz5e8ZnTs+x0BfZLkTxVI6F3qtPH7T8xVjogYGB6GlphZNnTvNIYkv4WOhDkxgLvX+fvgq3VzQWupOjI+4oGAvdqnuPZNuQWdJzLPSOpmZwPn4sxWOhjxpho9SxWG+3TppgJLmx0MU2OB51loY9TWjl8hXIkyfxWOifPnnDRnitE7ZB3Jdoj/B3XbhIEenncaPHYNnKFahZq5ZUJkTVUALPYjp16IjAgADky5+fRzLX61evpMfKVapIj2mR2n0pu11gYAB8vH2SrZfcvvx8ffHt2zeF6xRtpygWHBQkJI1PybYhs6T2eCsi7ku/gr6QwDV55Nc8PTwQGhqq1O9Xpq1inXLlyytM4Elt7y28FuLY5wnjMfXLlC2LvHnzSj97uLtj557dqFuvnlQmROWICZxkHdY9LNnNGzd5KfNddXNjfXr24qW0WbhgAdtib89LyhvYvz+7cvkyLyUtwN+f1axmwEuKLbZdyOw3beKl+Hy/fWN1a9fhpfgGDxjILl64wEtyjoePsEkTJvKSXGBgIKtepSov/V6D+g9gly5e5KW0qVRen8lkMl5Sjru7O2vRpCkvJW/d2rVMOIvmJcUqV6jIwkLDeCm+FcuWsfV2drwUy8vLizVr3JiXYtU3NGL6Zcqy06dO8Qhjncw6sKdPnvASIaqHroETQrK9mEsBn30+S4+EZAeUwAkh2V6+/PmkvhhNmzXlEUJUHyVwQki2J15H79CxI/6uXJlHCFF9lMAJIYQQFUQJnBCSI6xdvQbTp0zlJUJUHyVwQkiOcP/+PZw/d46XCFF9lMAJITmCjk5haUhVcQAZQrIDSuCEkBxBR0dHehRH4CMkO6AETgjJEWISuK+vr/RIiKqjBE4IyRF0CvME/vWb9EiIqqMETgjJETp17owLly+hYaNGPEKIaqMETgjJEYoWLYry+vrQypN4chRCVBElcEIIIUQFUQJXRvBLHJnRDxZmndB/xiG8DObxBIJfHMasvp1gbt4Xsw69REw1mcdZLB/eHZ07dMNw22N4G8JXEEIyjfcnbzSoWxcTx43nEUJUGyXwXwqA2+JJcNYdjZ3Hd2O0rhMm27oI0QQC3LB0shN0x+yG854x0HWciMVXhFqRr7H9n00I6LIGh45tRF+1vfhn9V3I+GaEkMyRL19e+H7zxZcv//EIIaqNEvgvRPtdgMN9I4yxMYKOhg4Mbcah7sODOP8tmtcQRcPv/AE8MByLEUY60NAxwojxdfHw4Dn4ykKh22oUhhrrQUujOOp1bgK1l8/hF3dzQkiGKxRzG5mQxAnJDnKJk4Lzn4kC4XcXoNvumnDYYI58UiQEJ2y64XHfY5jdQFOKCLVwb4EF9tY4ArtO8loIOY7RXR+j9/E5qB9TDaF4sqonZoXOgOMMI/w/HEfXTp1RslQplNDT45HMdf3aVbx6+QpDhg3jkdTbam+PXLlyYfDQoTyiHHG7ihUrokWrVjyiWGBgIBwOHEi2reK+RIrq+Pn5wtnRSeE6cbvy+uVh3LoNjwBOjo747ucXr35wcBAO7NufLscrrcQ261fQRyvj1jySeuK++g8cgNy5Ff2VKubp6YEL584rdSySe11iiHX69u8vzSSWUFLbe3/6hLNnziSKi/XF3ufPnz1Dnrx50dnCAkednLDRfjPqGBryWoSoFjoD/wUWFASZRm6o87LwmUd4U5MhJDju5x6G4EAZNDRjayFXbmjIghH8/zPtaPx3dg7m3G6GOWMVJ2+JkPDya2tDR6fQb1kKFZKfpShal9JFvh+dRPFfLSLxbEnRuoSLSFE8ZhEVKqR4XczAHorWSXHhWCiMx4ul3/FK6yISXz9F61K6iFL82qXgbyevkEQ1NDQUrotZktuXmpoa8uXLlygec5adMC6P6WC4zQj0H9Bfiqmrx/n3SogqEs/ASdIiPTaznuar2MsIHoh4wVab92CbP0TygCiSeWy2ZBYrX7DYaquYRfeN7COvFvTIjvUyHc9OesfdLjHrHpbs5o2bvJT5rrq5sT49e/FS2ixcsIBtsbfnJeUN7N+fXbl8mZeSFuDvz2pWM+AlxRbbLmT2mzbxUny+376xurXr8FJ8gwcMZBcvXOAlOcfDR9ikCRN5SS4wMJBVr1KVl36vQf0HsEsXL/JS2lQqr89kMhkvKcfd3Z21aNKUl5K3bu1atnL5Cl5SrHKFiiwsNIyX4luxbBlbb2fHS7G8vLxYs8aNeSlWR1NT9uzpU16S62TWgT198oSXCFE9dAb+C+olTdBO5yL2uPgK59DR8HPdjUsF26N9mbif3tVR0sQEOpd2w9VXOOWO9oPbrosoaGKK0kK1KO/jmDnjFhovskUHPfrUTwghJO0ogf+Kemn0WjQKmtsHoZe1NQZvzQ2bxX0h5m/Z9VkwGXyQV+sN21Ga2DnQGr2tBmK75kgs7FsG6gH3sNZmJs76+OD0tG4QzgTQecIR+FAnNkIIIWlACVwJ6nqmmOfgjK2bt8PxkC1MS8rPorWazISjXQ/pZ/EsvITpAuw/uh0bdzjjgK0ZpJPtgnUx4cQzvH7shlNnzuCksBxb1R16dOQJIYSkAaURpalDu5B2nM5sIi3kz5fgK3F1bRTUThAjhBBC0hklcEIIIUQFUQInhBBCVBAlcEIIIUQFUQInhBBCVBAlcEIIIUQFUQInhBBCVBAlcEIIIUQFUQInhBBCVBAlcEIIIUQFUQInhBBCVBAlcEIIIUQFUQInhBBCVBAlcEIIIUQFUQInhBBCVBAlcEIIIUQFUQInhBBCVBAlcEIIIUQFUQInhBBCVBAlcEIIIUQFUQJXRvBLHJnRDxZmndB/xiG8DObxBIJfHMasvp1gbt4Xsw69xP+rRXnBeWov9LKegWPeUTxICCGEpB4l8F8KgNviSXDWHY2dx3djtK4TJtu6CNEEAtywdLITdMfshvOeMdB1nIjFV3gt9T/QdvJ0NIh4g8+h8hAhhBCSFpTAfyHa7wIc7hthjI0RdDR0YGgzDnUfHsT5b9G8higafucP4IHhWIww0oGGjhFGjK+LhwfPwVeqpgVtHW3k0cgl1SaEEELSihL4L0R+eAUffSPUzMMDeWqhjr43Xn2I5AFRJD6+9oa+US0hVctp1TKEvvcrxKtGCCGEpBNK4L/AgoIg08gNdV4GciF3bhlCghkvixiCA2XQ0IythVy5oSELRnDcE3VCCCEknVAC/wUN/fIo6vEaH2POpCPd8cajKMqV0+ABkQbK6ReFx6sPwrm4XKT7G3gWLYdyuXmAEEIISUeUwH9BvaQJ2ulcxB4XX0SL17pdd+NSwfZoXybO2bZwfl7SxAQ6l3bDVbzoHe0Ht10XUdDEFKXjViOEEELSSS4m4D+TJET5nMH8ifZ4mysPwqIrYsjKeTAtqQ7Z9VnovKsqzm6zFmvh85m5mLz5LXLlCUN0paFYPs8MejEJPMoTW3tNQsQCB9hUTDqrd7OwgEwmQ5WqVXkkc/l+84X7x4+oW78ej6Te61evoKWVB+XKl+MR5dy/dx9lypRGseLFeUSxiIgIuLm4onXbNjyS2OtXr6GppYny5cvzSCzxON+4dh2tWhvzSKwH9++jVKlSKP7HHzwCeHt747vfd9SoWYNHgMjISLhcvoI27dryyO/zQDhupUqXFtqc/HFTxvmz56TnpKam/Gf8kOBg3Lt3D81btOCRpL1//x4sOhoVK1XikcTOnzuP1m1aQ1098b+Xt2/eCnE16FeowCNyISEhuHfnLpq3jN+GG9dvwKC6AQoVKsQjgLOjE46eOI7qNWJfT0JUCSVwpUUhyD8UeQtpx7keLkNwiAby54vzBhMVhIDQvCionXSSTo6bqxu+ff3KS4SQjGQsfEAoXLgwLxGiWiiBE0IIISqIroETQgghKogSOCGEEKKCKIETQgghKogSOFFRkYikUe5Uh/Bi0ctFSPqiBJ5pgvHy0AwMMDeDRZ8ZOPxC8ZRmGTmjWZL7jiupmddkHji3dDgsO3REjyG2OP4mhK9IiTQeg/+Lht+VDdh5V8bLGUSpWeii4OU4DX2semLmUW8ek1PqeKeYcsdQ5nEWy4d3R+cO3TDc9hjepublSoqSs/P9X7QfXDdsxz2FL5dyz0cuALftZmH3y3BeVkbSr088KX1OhGQFYi90kvECXGawDt1Xsfs/ItiPe6uYZbtpzOUnXxnD35XNMunBVt/7wSJ+3GOru7VnMy7785VhLND3ObPr2pVteBvJYymQ7L5j+DPXGSbMauU99iPiB7u/sjsznXpFiEaw1+t6sE7TzzOfsAj25foi1t1sIbsbyjdTUtqPgVzUlzNsUuNGbLpLGI9khKSORWJhgb7s+ZpurPu6dzwiUOp4p5xSxzDiFdvQvSObed6bhUV8YTcWdmGdbO8If0HpQfnjIhfFvp6ZwJo3nMpcFTRAqecjEfZz9h/Wqc929kbGQ0pS+PrEk9LnREjWQGfgmUE4A7lw8AEMx9nAUEcDOkY2GFv3IRzOfeMVRBk5o9mv9i2X9MxrMoQUbYmRw41RQksDxet3QiP1l3jxPQUDvafLMRCrfMYp23W4Fa6GjJzbTblZ6OS0tHWgnUc9TnuUO94pptQxFESEQrfVKAw11oOWRnHU69wEai+fwy8tv5tLyXERRX8+iYXrbiJcTcGrpezzEUR9csbc9f6wntMLlTR5UEmJX5/4UvqcCMkqKIFnhsgPeO2tD8Na/5+rDDUN9eH96gMvizJyRjPl9p30zGu5UdtqONqUkg9OE/r8PK5HVkX1oin480mXYxAFb6cF2KkxBMPrxdTIGMrNQpeUDHotlTqGgry1YTm8LeQvVyhenLuKyKo1kJKXKykpOi5R3jg6fwdyD7FB3Zj6cSn7fCLfY++URbj50xuHxpjApP8a3ErTJ6H40vZaE/L7UALPDNHBCJJpIHeco51LUwOykLgX2jJyRjPl9q3MzGvR/53DvJm30WTeGBim5EwoHY5BlIcD5u8thJHT26FwRp5+C5SbhS4pGfRaKnUM44rGf2fnYM7tZpgz1ggpPHFVSPnjEgWPg3Oxr9AoTG2XxEhnSj2faPidXotD+SfC+fIpOJ8+ieWGt7FgzQ3ho0n6SNtrTcjvQwk8M+Quj/JFPfA6dkozeLz2RNFycccIz8gZzZTb9y9nXgt+jE3j1yNy2CqMNtKWx5SV1mOQSzgLm30QRYaPQj3NEMgiGSJloZClrj/fLyk3C11SMui1VOoYxgp+vAGT1kdi8Grhw1YKX66kKHtcIt/txryDRTB0dH1ohsgQFR0JWajwyNdLlHo+QuzZO5RsZYpy0ol6flQxaYoCb57j33R67dP2WhPy+1ACzwzqJdHOpBAu73KRrkNG+7liz8WCaG9ahlcQZeSMZsrtO9mZ16K8cWL6DNxqshDzO+rFOVtRUpqOQXto33DCtdA8+Lh9HAYPGAb7u//i6pqZcHgb866bvpSbhS4pGfRaKnUM5aK8j2PmjFtovMgWHf4/o07aKXVchOd7zfkaQvN8xM6xAzFo6Cbc/dcNdjMO4l3cl0up56OBstUrwtvtMrylbWX4cOUWQqvUxF/p9LTS9loT8hvxzmwko0V6szMzLVnn7tbMqqMlm3XqE5P6koddY7PbDGYHv0SJlZjP6ZmsZ8cerFd3c2Y94xTzjtvhPNKDbbHslrpe6EnuO4xdn9mWDT3wRV7L+zSbbWnOrKx6sM49ZrDTn8RK/uzecnNWU78Wa9nehHUwEZYOE9iRT2KbUyA9joEkhJ0aZcxmZGgv9KSOhdjcmaz9oAPSz3KRzGOzJesRr5ezMs8jFZQ5hv532cqOBuzvms2YmfhaCUun8YeZdwpfrqQof1y4kJNsjPE0hb3QlXo+Qp2LC3sy0/bdWS+LdqzjwA3szo+UPBkFr0+8v7mknxMhWRlNZpLJooICEJq3IOJOViYLDoFG/nyxZ7VpnNEsWYr2HRaMkNz5ETupmqKZ19LPbz8GKaLkLHRJyaDnodQxzFBpPC4JKPN8osN+4rssH4oWSo+r+YqOV8b+3ROS3iiBE0IIISqIroETQgghKogSOCGEEKKCKIETQgghKogSOCGEEKKCKIETQgghKogSOCGEEKKCKIETQgghKojuAyc5UvSP81g8cideaRTEX1VawGqwFQyLpc/n2YzcNyGExKB3FZIjRb6/i5t5TLFg4Ti0lh3ElNU3IOPr0ioj900IITEogZMcKeSjF3KVrwq9UlXRuH5F5EU0X5N2GblvQgiJQQmc5EDhcP/ogwJ5w/D4wg7M3/ovjLvVgzRbZZpl5L4JISQWJXCSA4XB3eM7vJ1GYvyeH2i1yB5j6uQV4lEI/fkNfv6hwk+plZH7JoSQWNSJjeQ8kU+x0mIVik6piePzvmPi0QVorC3Ewx9iWZ/F8CmtB5nPdxRoOx6z+tdGQflG+HBiDfbc+RHvC3H1P5pjyMi2+P+U26naNyGEpBwlcJLzBB/HmK4PYX1sAoJmWWBr2U04MPJvaPg7YuxMYP66bigU9RnOYyfDY/BOTKiVgukrM3LfhBASB32FTnKcSM+P8CmuD33NQmg1sje0Dq3Bya/RiHT3RGTJ8hC/8IZ6CTRvmB+e7pHSNspK0b7fv8Tuf0Zj5pQRGDF1KVbMHIdh4/fibcp+JSEkh6IETnIcjarj4bSnL4oLf/3qZQdi79VNsBAKoe5e0ChbHvJz4lC8/ZgL5Sqk7Aw5Rfsu9RFPfxhi+LwBKO0dgobT56F19BO8j5AqEUJIsiiBEyKJhJd7OP4qn0/4WYbPl1djT1AHWFXTkK9OE8X77pbPC6hSB8WjvuB7sZqoruGDf3PpoVRu+VaEEJIcSuCESGRw//Aat7f9gwmjJ2H9y7qYMq8j/kyXfyGK913Y3RsoXRZqXu6I1iuHPJEf8VmtNMqkx2cGQki2R53YCCGEEBVEZ+CEEEKICqIETgghhKgg+gqd5DiD+g/AtatXeSlry5svH548f8ZLhBASixI4yXH+/fwZ/335wktZWx6tPKhStQovEUJILErghBBCiAqia+CEEEKICqIETkiM6B+4sKAXeln3w4iJS+Bw/1v6zeQd5QXnqeK+Z+CYN81HRghJO0rghMSIfI97N/Kg/cKFGNNaBofJa3BTxtellfofaDt5OhpEvMHnUB4jhJA0oAROSIwQd3jlKoeqJUuiStN6qJBXnMVbSdF+eODyAD+SPGXXgraONvJo5OJlQghJG0rghHDhHz/Cp0A+hD26gF1zt+K/1t1QT4uv/BX2HQ9chQROXUIJIZmEEjghXJi7O354O2H0mL34brwIG8fVlqb/jAr9CV9ff4QqOh2PDIH/zx/48SMIYeFhCPwh/PzTHyE0JSghJINRAidEEgnPj//i76FL0ffPL/AvUBIFpX8d4XiydjhGzrXFjOG90H/iLjzylzaQRHlfxf5Nm2Bv74C7z2/jkL3w86b9uO5DHdUIIRmLEjghEhncPSJQplJdDBhZEzdW78Fb6Sw6FB4+xWC5cDlWbd2DRY0eCI+PhbQup162PWymTcfUqYPRrE4LDJ4q/DzNBm3LqPMahBCSMSiBEyKK9MRHn+IoXyE3ChmPRG+tQ1h74iuiI93hEVESZcXv0qGOEi0aQNvDXThfJ4SQ34tGYiMkOQFHMX56BOas7wEdoRh6cwEm3O6MdROqg6btJoT8TnQGTkgyIr08EF6iHPIJP8t8LmPtrmCY9axGyZsQ8tvRGTghyQg+MQrmWyNQs7wmovJUQscRQ9G6rLL3lhFCSMahBE4IIYSoIPoKnRBCCFFBlMAJIYQQFUQJnBBCCFFBlMAJIYQQFUQJnBBCCFFBlMAJIYQQFUQJnBBCCFFBlMAJIYQQFUQJnBBCCFFBlMAJIYQQFUQJnBBCCFFBlMAJIYQQFUQJnBBCCFFBlMAJIYQQlQP8DwgQqbzzQo85AAAAAElFTkSuQmCC)"
      ],
      "metadata": {
        "id": "vlqwQC-TZLG1"
      }
    },
    {
      "cell_type": "code",
      "source": [
        "yaxis=float(input(\"Inserte el valor del eje y leído en la correlación de Gilliland:\"))\n",
        "\n",
        "def yaxisi(Nmin,yaxis): #Función que convierte lo leído en el eje y de la correlación de Gilliland en el no. de etapas ideales\n",
        "  return (Nmin+yaxis)/(1-yaxis)\n",
        "\n",
        "N=yaxisi(N_min+1,yaxis)\n",
        "\n",
        "print(\"La columna debe tener %.d platos ideales\"%N)"
      ],
      "metadata": {
        "colab": {
          "base_uri": "https://localhost:8080/"
        },
        "id": "Ra9qEjmcZPad",
        "outputId": "df6ebc24-2a08-4d21-9f0a-1c5c11072711"
      },
      "execution_count": 23,
      "outputs": [
        {
          "output_type": "stream",
          "name": "stdout",
          "text": [
            "Inserte el valor del eje y leído en la correlación de Gilliland:0.41\n",
            "La columna debe tener 19 platos ideales\n"
          ]
        }
      ]
    }
  ]
}