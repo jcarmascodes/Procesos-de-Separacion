{
  "nbformat": 4,
  "nbformat_minor": 0,
  "metadata": {
    "kernelspec": {
      "display_name": "Python 3 (system-wide)",
      "language": "python",
      "metadata": {
        "cocalc": {
          "description": "Python 3 programming language",
          "priority": 100,
          "url": "https://www.python.org/"
        }
      },
      "name": "python3"
    },
    "language_info": {
      "codemirror_mode": {
        "name": "ipython",
        "version": 3
      },
      "file_extension": ".py",
      "mimetype": "text/x-python",
      "name": "python",
      "nbconvert_exporter": "python",
      "pygments_lexer": "ipython3",
      "version": "3.6.9"
    },
    "colab": {
      "provenance": []
    }
  },
  "cells": [
    {
      "cell_type": "markdown",
      "source": [
        "# **Separador Flash**\n",
        "Se requiere separar una mezcla de hidrógeno, acetona, alcohol isopropílico y agua en 2 corrientes de líquido y vapor a 47°C y 0.02 bar.\n",
        "* *Hidrógeno*: 0.3755\n",
        "* *Acetona*: 0.3755\n",
        "* *Alcohol Isopropílico*: 0.0417\n",
        "* *Agua*: 0.2073\n",
        "\n",
        "La alimentación es 92.6 kmol/h\n",
        "\n",
        "Encuentre la razón V/F y las composiciones de las corrientes de salida.\n"
      ],
      "metadata": {
        "id": "yueBzJ1qmg5A"
      }
    },
    {
      "cell_type": "code",
      "metadata": {
        "colab": {
          "base_uri": "https://localhost:8080/"
        },
        "id": "0SmdpQdr-gke",
        "outputId": "2a09f2f7-1ea8-4e61-92a8-ef79d0c95e21"
      },
      "source": [
        "import math\n",
        "import numpy as np\n",
        "from math import *\n",
        "from tabulate import tabulate\n",
        "\n",
        "\n",
        "COMP = [\"Hidrogeno\", \"Acetona\", \"Alcohol Isopropilico\", \"Agua\"]\n",
        "PM=np.array([2.01589,58.08 ,60.1,18.01528])\n",
        "a = np.array([2.94928, 4.21840, 8.1182, 5.11564])         # Constante A de Antoine\n",
        "b = np.array([67.508, 1197.010, 1580.92, 1687.537])            # Constante B de Antoine\n",
        "c = np.array([275.700, 228.060, 246.99, 219.62])              # Constante C de Antoine\n",
        "z = [0.3755, 0.3755, 0.0417, 0.2073]   # Fracción mol de la Alimentación\n",
        "P = 0.02                                                 # Presion [bar]\n",
        "T = 47                                                  # Temperatura [°C] (320.15 K)\n",
        "\n",
        "n = len(z)\n",
        "p0 = np.zeros(n)\n",
        "k = np.zeros(n)\n",
        "s0 = np.zeros(n)\n",
        "s1 = np.zeros(n)\n",
        "for i in range (n):\n",
        "    p0[i] = (10**(a[i]-(b[i]/(T+c[i]))))/750 #Cálculo de la presión de vapor por componente\n",
        "    k[i] = p0[i]/P #Cálculo de la razón K (Se asume mezcla ideal)\n",
        "    s0[i] = k[i]*z[i] #Cálculo de S0 y S1\n",
        "    s1[i] = z[i]/k[i]\n",
        "\n",
        "S0 = sum(s0) - 1\n",
        "S1 = 1 - sum(s1)\n",
        "\n",
        "\n",
        "if S0 < 0 and S1 < 0: #S0 y S1 sirven de criterio para determinar si a las condiciones propuestas existen coexistencia líquido-vapor\n",
        "    print(\"Sólo se obtiene líquido\")\n",
        "if S0 > 0 and S1 > 0:\n",
        "    print(\"Sólo se obtiene vapor\")\n",
        "if S0 > 0 and S1 < 0.0:\n",
        "    print(\"Se obtiene líquido-vapor\")\n",
        "\n",
        "#Como se desconoce la relación V/F es necesario iterar\n",
        "vf = 0.3 #Proponemos una relación V/F inicial\n",
        "error = 1*10**(-6) #Es el error mínimo aceptable\n",
        "zu = np.zeros(n)\n",
        "zk = np.zeros(n)\n",
        "zp = np.zeros(n)\n",
        "for i in range(100):\n",
        "    for i in range(n):\n",
        "        zu[i] = z[i]/(1+(vf*(k[i]-1)))\n",
        "        zk[i] = (z[i]*k[i])/(1+(vf*(k[i]-1)))\n",
        "    sx = sum(zu)\n",
        "    sy = sum(zk)\n",
        "    s = sy - sx\n",
        "    if abs(s) < error: #Probamos si el resultado de S es menor al error mínimo aceptable\n",
        "        break\n",
        "    else:\n",
        "        for i in range(n): #En caso de no hacer, por medio del Método de Newton-Raphson, iteramos una nueva relación V/F\n",
        "            zp[i] = (z[i]*(k[i]-1)**2)/(1+(vf)*(k[i]-1))**2\n",
        "        sprim =-sum(zp)\n",
        "        vf = vf - (s/sprim)\n",
        "\n",
        "\n",
        "print('* La relación V/F es: %.6f' %vf)\n",
        "F = 92.6 #kmol/h\n",
        "V = vf*F\n",
        "L = F-V\n",
        "print ('* Si F = %.1f' %F, 'kmol/h')\n",
        "\n",
        "x = np.zeros(n)\n",
        "y = np.zeros(n)\n",
        "for i in range (n):\n",
        "    x[i] = z[i]/(1+(vf)*(k[i]-1)) #Una vez conocidad la razón V/F, se calculan las composiciones de salida en líquido y vapor de cada componente del separador flash\n",
        "    y[i] = x[i]*k[i]\n",
        "\n",
        "comp = [[' ', 'Fracción mol Vapor', 'Fracción mol Líquido'],\n",
        "        ['i' ,   '   yi   ',   '   xi   '],\n",
        "        [COMP[0], '%.6f.' %y[0], '%.6f.' %x[0]],\n",
        "        [COMP[1], '%.6f.' %y[1], '%.6f.' %x[1]],\n",
        "        [COMP[2], '%.6f.' %y[2], '%.6f.' %x[2]],\n",
        "        [COMP[3], '%.6f.' %y[3], '%.6f.' %x[3]],\n",
        "        ['Total', '%.6f.' %sum(y), '%.6f.' %sum(x)]]\n",
        "print(tabulate(comp, headers='firstrow', tablefmt='fancy_grid'))\n",
        "\n",
        "comp = [[' ', 'Vapor (kmol/h)', 'Líquido (kmol/h)'],\n",
        "        [COMP[0], '%.6f.' %(y[0]*V), '%.6f.' %(x[0]*L)],\n",
        "        [COMP[1], '%.6f.' %(y[1]*V), '%.6f.' %(x[1]*L)],\n",
        "        [COMP[2], '%.6f.' %(y[2]*V), '%.6f.' %(x[2]*L)],\n",
        "        [COMP[3], '%.6f.' %(y[3]*V), '%.6f.' %(x[3]*L)],\n",
        "        ['Total', '%.6f.' %V, '%.6f.' %L]]\n",
        "print(tabulate(comp, headers='firstrow', tablefmt='fancy_grid'))\n",
        "\n",
        "print('\\nBalance del propano: %.2f.' %((y[2]*V)+(x[2]*L)), 'kmol/h')"
      ],
      "execution_count": null,
      "outputs": [
        {
          "output_type": "stream",
          "name": "stdout",
          "text": [
            "Se obtiene líquido-vapor\n",
            "* La relación V/F es: 0.414963\n",
            "* Si F = 92.6 kmol/h\n",
            "╒══════════════════════╤══════════════════════╤════════════════════════╕\n",
            "│                      │ Fracción mol Vapor   │ Fracción mol Líquido   │\n",
            "╞══════════════════════╪══════════════════════╪════════════════════════╡\n",
            "│ i                    │ yi                   │ xi                     │\n",
            "├──────────────────────┼──────────────────────┼────────────────────────┤\n",
            "│ Hidrogeno            │ 0.871373.            │ 0.023780.              │\n",
            "├──────────────────────┼──────────────────────┼────────────────────────┤\n",
            "│ Acetona              │ 0.030414.            │ 0.620268.              │\n",
            "├──────────────────────┼──────────────────────┼────────────────────────┤\n",
            "│ Alcohol Isopropilico │ 0.096773.            │ 0.002637.              │\n",
            "├──────────────────────┼──────────────────────┼────────────────────────┤\n",
            "│ Agua                 │ 0.001440.            │ 0.353315.              │\n",
            "├──────────────────────┼──────────────────────┼────────────────────────┤\n",
            "│ Total                │ 1.000000.            │ 1.000000.              │\n",
            "╘══════════════════════╧══════════════════════╧════════════════════════╛\n",
            "╒══════════════════════╤══════════════════╤════════════════════╕\n",
            "│                      │ Vapor (kmol/h)   │ Líquido (kmol/h)   │\n",
            "╞══════════════════════╪══════════════════╪════════════════════╡\n",
            "│ Hidrogeno            │ 33.483030.       │ 1.288270.          │\n",
            "├──────────────────────┼──────────────────┼────────────────────┤\n",
            "│ Acetona              │ 1.168676.        │ 33.602624.         │\n",
            "├──────────────────────┼──────────────────┼────────────────────┤\n",
            "│ Alcohol Isopropilico │ 3.718563.        │ 0.142857.          │\n",
            "├──────────────────────┼──────────────────┼────────────────────┤\n",
            "│ Agua                 │ 0.055330.        │ 19.140650.         │\n",
            "├──────────────────────┼──────────────────┼────────────────────┤\n",
            "│ Total                │ 38.425595.       │ 54.174405.         │\n",
            "╘══════════════════════╧══════════════════╧════════════════════╛\n",
            "\n",
            "Balance del propano: 3.86. kmol/h\n"
          ]
        }
      ]
    },
    {
      "cell_type": "code",
      "metadata": {
        "id": "VxYx9Umr6wI6"
      },
      "source": [],
      "execution_count": null,
      "outputs": []
    }
  ]
}