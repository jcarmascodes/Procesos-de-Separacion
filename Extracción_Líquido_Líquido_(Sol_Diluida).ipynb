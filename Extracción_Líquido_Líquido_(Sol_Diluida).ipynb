{
  "nbformat": 4,
  "nbformat_minor": 0,
  "metadata": {
    "colab": {
      "provenance": []
    },
    "kernelspec": {
      "name": "python3",
      "display_name": "Python 3"
    },
    "language_info": {
      "name": "python"
    }
  },
  "cells": [
    {
      "cell_type": "code",
      "execution_count": 2,
      "metadata": {
        "id": "TOwqoOHlGgIY"
      },
      "outputs": [],
      "source": [
        "import pandas as pd\n",
        "import numpy as np\n",
        "import math as math\n",
        "from matplotlib import pyplot as plt\n",
        "from IPython.display import display, Math, HTML\n",
        "import scipy.optimize as op\n",
        "from pylab import *\n",
        "from tabulate import tabulate"
      ]
    },
    {
      "cell_type": "markdown",
      "source": [
        "## **Extractor Líquido-Líquido**\n",
        "\n",
        "Penicilina F, es recuperada de un caldo de fermentación por extracción con amil acetato, usando 6 volúmenes de solvente por 100 volúmenes de fase acuosa. A un pH de 3.2, el coeficiente de distribución KD es 80\n",
        "\n",
        "* ¿Cuál es la fracción de penicilina recuperada en una sola etapa ideal?\n",
        "* ¿Cuál sería la recuperación como 2 etapas de extracción, usando solvente fresco en ambas?\n",
        "* ¿Cuántas etapas ideales se necesitarían para lograr la misma recuperación obtenida en el punto 2 si una cascada a contracorriente se usa con una razón V/L=0.06?\n",
        "\n"
      ],
      "metadata": {
        "id": "hc2t5aPIM00s"
      }
    },
    {
      "cell_type": "code",
      "source": [
        "Kd=80 #Coeficiente de distribución\n",
        "VL=0.06 #Relación entre solvente y solución acuosa\n",
        "#Primero calculamos el factor E\n",
        "\n",
        "def Et(Kd,VL):\n",
        "  return (VL*Kd)\n",
        "\n",
        "def NO(xa,xao,xb,xbo,E):\n",
        "  return (log((xa-xao)/(xb-xbo)))/(log(E))\n",
        "\n",
        "E=Et(Kd,VL)\n",
        "#Calcular la fracción recuperada en 1 sola etapa ideal\n",
        "x10=1/(1+E)\n",
        "print(\"La recuperación de penicilina es una sola etapa ideal es de: %.4f\"%(1-x10))\n",
        "#Calcular la fracción recuperada con 2 etapas ideales, usando solvente fresco\n",
        "x20=(1/(1+E))*x10\n",
        "print(\"La recuperación de penicilina es en 2 etapas ideales (con solvente fresco) es de: %.4f\"%(1-x20))\n",
        "Faq=100\n",
        "Forg=6\n",
        "xa=0.01 #Suponemos una pequeña fracción de soluto en la corriente acuosa de entrada\n",
        "yb=0 #La fracción de soluto en la fase orgánica de entrada es 0\n",
        "ya=((1-x20)*xa*Faq)/Forg #Obtenemos la fracción másica\n",
        "xb=(x20*xa*Faq)/Faq #Volúmenes de salida de solución acuosa\n",
        "\n",
        "xao=ya/Kd\n",
        "xbo=yb/Kd\n",
        "\n",
        "N=NO(xa,xao,xb,xbo,E)\n",
        "\n",
        "#El número de etapas necesarias es:\n",
        "\n",
        "\n",
        "print(\"El número de etapas necesarias es: %.4f\"%N)\n",
        "\n",
        "\n",
        "\n"
      ],
      "metadata": {
        "colab": {
          "base_uri": "https://localhost:8080/"
        },
        "id": "WIlsYv1DNkRh",
        "outputId": "dbd188e4-767d-4faf-e760-0b57ea588e43"
      },
      "execution_count": 11,
      "outputs": [
        {
          "output_type": "stream",
          "name": "stdout",
          "text": [
            "La recuperación de penicilina es una sola etapa ideal es de: 0.8276\n",
            "La recuperación de penicilina es en 2 etapas ideales (con solvente fresco) es de: 0.9703\n",
            "El número de etapas necesarias es: 2.0973\n"
          ]
        }
      ]
    }
  ]
}