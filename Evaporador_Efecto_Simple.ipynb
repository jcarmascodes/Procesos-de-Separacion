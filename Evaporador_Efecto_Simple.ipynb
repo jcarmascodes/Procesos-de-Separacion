{
  "nbformat": 4,
  "nbformat_minor": 0,
  "metadata": {
    "colab": {
      "provenance": []
    },
    "kernelspec": {
      "name": "python3",
      "display_name": "Python 3"
    },
    "language_info": {
      "name": "python"
    }
  },
  "cells": [
    {
      "cell_type": "markdown",
      "source": [
        "Un evaporador continuo de efecto simple concentra 9072 kg/h de una solución de sal al 1.0% en peso que entra a 311.0 , hasta una concentración final de 1.5% en peso. El evaporador está a 101.325 kPa y el vapor de agua que se introduce está saturado a 143.3 kPa. El coeficiente total U= 1 704 W/m2 K. Calcule las cantidades de vapor y de producto líquido así como el área de transferencia de calor que se requiere. Puesto que es una solución diluida, suponga que su punto de ebullición es igual al del agua.\n",
        "\n",
        "[Calculadora de tablas de vapor saturado de agua](https://toolbox.tlv.com/global/LA/calculator/steam-table-pressure.html?advanced=on)"
      ],
      "metadata": {
        "id": "qBUZjGB6_ZPL"
      }
    },
    {
      "cell_type": "code",
      "source": [
        "#Por medio de balance, se calcula la cantidad de líquido y vapor de salida\n",
        "F=9072 #kg/h Flujo del líquido de entrada\n",
        "c1=0.01 #Concentración inicial de sal en el líquido de entrada\n",
        "c2=0.015 #Concentración final de sal en el líquido de salida\n",
        "L=F*c1/c2\n",
        "V=F-L\n",
        "U=1704 #W/ m2 K\n",
        "print(\"El flujo de solución de salida es: %.2f kg/h\"%L)\n",
        "print (\"El flujo de vapor de salida es: %.2f kg/h\"%V)\n",
        "Cp=4.14 #kJ/kg K Se toma de referencia para el cp al valor asignado para el agua\n",
        "lambda1=float(input(\"El calor latente del vapor saturado a la temperatura de saturación en el vapor de la chaqueta es (kJ/kg): \"))\n",
        "lambda2=float(input(\"El calor latente del vapor saturado a la temperatura de saturación en el evaporador es (kJ/kg): \"))\n",
        "T1=float(input(\"La temperatura de saturación en el evaporador es (K):\"))\n",
        "T2=float(input(\"La temperatura de saturación en la chaqueta es (K):\"))\n",
        "\n",
        "T0=311 #temperatura de entrada\n",
        "S=((Cp*F*(T0-T1)-V*lambda2))/-lambda1\n",
        "print(\"La cantidad necesaria de vapor en la chaqueta es: %.4f kg/h\"%S)\n",
        "q=S*lambda1/3.6\n",
        "A=q/(U*(T2-T1)) #Calculamos el área de transferencia de calor\n",
        "print(\"El área necesaria es: %.4f m2\"%A)"
      ],
      "metadata": {
        "colab": {
          "base_uri": "https://localhost:8080/"
        },
        "id": "-oteIoAkAnKW",
        "outputId": "151963ba-5c77-415b-87e3-869759594485"
      },
      "execution_count": 7,
      "outputs": [
        {
          "output_type": "stream",
          "name": "stdout",
          "text": [
            "El flujo de solución de salida es: 6048.00 kg/h\n",
            "El flujo de vapor de salida es: 3024.00 kg/h\n",
            "El calor latente del vapor saturado a la temperatura de saturación en el vapor de la chaqueta es (kJ/kg): 2229.75\n",
            "El calor latente del vapor saturado a la temperatura de saturación en el evaporador es (kJ/kg): 2256.54\n",
            "La temperatura de saturación en el evaporador es (K):373.123\n",
            "La temperatura de saturación en la chaqueta es (K):383.134\n",
            "La cantidad necesaria de vapor en la chaqueta es: 4106.7373 kg/h\n",
            "El área necesaria es: 149.1089 m2\n"
          ]
        }
      ]
    }
  ]
}